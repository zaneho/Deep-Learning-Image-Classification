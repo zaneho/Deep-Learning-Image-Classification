{
  "nbformat": 4,
  "nbformat_minor": 0,
  "metadata": {
    "colab": {
      "name": "FirstProject(TransferLearning-Monkey).ipynb",
      "version": "0.3.2",
      "provenance": [],
      "collapsed_sections": [],
      "include_colab_link": true
    },
    "kernelspec": {
      "name": "python3",
      "display_name": "Python 3"
    },
    "accelerator": "GPU"
  },
  "cells": [
    {
      "cell_type": "markdown",
      "metadata": {
        "id": "view-in-github",
        "colab_type": "text"
      },
      "source": [
        "<a href=\"https://colab.research.google.com/github/zaneho/TransferLearning-Monkey/blob/master/FirstProject(TransferLearning_Monkey).ipynb\" target=\"_parent\"><img src=\"https://colab.research.google.com/assets/colab-badge.svg\" alt=\"Open In Colab\"/></a>"
      ]
    },
    {
      "metadata": {
        "id": "eZGZjUs3gkCK",
        "colab_type": "text"
      },
      "cell_type": "markdown",
      "source": [
        "# Monkey Project\n",
        "We want to train a model that can tell the difference between 10 different \n",
        "Monkey species\n",
        "\n",
        "To do this we are going to use a famous Imagenet model called InceptionV3 to do transfer Learning.\n",
        "\n",
        "Along the way will also use the new tf.data along with Pandas to handle the input pipelines for training and testing.\n"
      ]
    },
    {
      "metadata": {
        "id": "r-EJYnxzevVO",
        "colab_type": "code",
        "outputId": "32d277e0-8267-4be8-b6c7-d3d29b18b2bd",
        "colab": {
          "base_uri": "https://localhost:8080/",
          "height": 34
        }
      },
      "cell_type": "code",
      "source": [
        "!ls"
      ],
      "execution_count": 1,
      "outputs": [
        {
          "output_type": "stream",
          "text": [
            "sample_data\n"
          ],
          "name": "stdout"
        }
      ]
    },
    {
      "metadata": {
        "id": "9tmaAHfrfoN7",
        "colab_type": "text"
      },
      "cell_type": "markdown",
      "source": [
        "# Test for GPU"
      ]
    },
    {
      "metadata": {
        "id": "6IvtfV_0fCzU",
        "colab_type": "code",
        "outputId": "2ceffdf8-40c3-47e2-ab45-81a9bc0af5c4",
        "colab": {
          "base_uri": "https://localhost:8080/",
          "height": 34
        }
      },
      "cell_type": "code",
      "source": [
        "import tensorflow as tf\n",
        "device_name = tf.test.gpu_device_name()\n",
        "if device_name != '/device:GPU:0':\n",
        "  raise SystemError('GPU device not found')\n",
        "print('Found GPU at: {}'.format(device_name))"
      ],
      "execution_count": 2,
      "outputs": [
        {
          "output_type": "stream",
          "text": [
            "Found GPU at: /device:GPU:0\n"
          ],
          "name": "stdout"
        }
      ]
    },
    {
      "metadata": {
        "id": "2_iI61cdfkfT",
        "colab_type": "text"
      },
      "cell_type": "markdown",
      "source": [
        "# Download the data\n",
        "https://www.dropbox.com/s/je25ylpp8r1r8uc/10-monkey-species.zip"
      ]
    },
    {
      "metadata": {
        "id": "WF8noIU7fdC7",
        "colab_type": "code",
        "outputId": "39b2af3a-ff11-4056-fa88-a5e8a7f76dd9",
        "colab": {
          "base_uri": "https://localhost:8080/",
          "height": 51
        }
      },
      "cell_type": "code",
      "source": [
        "!wget -qq https://www.dropbox.com/s/vj61417lofjebju/utils.zip\n",
        "!wget -qq https://www.dropbox.com/s/je25ylpp8r1r8uc/10-monkey-species.zip\n",
        "\n",
        "\n",
        "!unzip -qq 10-monkey-species.zip\n",
        "!rm 10-monkey-species.zip\n",
        "\n",
        "!unzip -qq utils.zip\n",
        "!rm utils.zip\n",
        "\n",
        "\n",
        "!ls"
      ],
      "execution_count": 3,
      "outputs": [
        {
          "output_type": "stream",
          "text": [
            "gdrive.py  monkey_labels.txt  sutils.py     validation.zip\n",
            "__MACOSX   sample_data\t      training.zip\n"
          ],
          "name": "stdout"
        }
      ]
    },
    {
      "metadata": {
        "id": "V14E44gAh0O7",
        "colab_type": "code",
        "outputId": "0e34aedc-567c-4554-890a-f4b53d216837",
        "colab": {
          "base_uri": "https://localhost:8080/",
          "height": 51
        }
      },
      "cell_type": "code",
      "source": [
        "!unzip -qq training.zip\n",
        "!rm training.zip\n",
        "\n",
        "!unzip -qq validation.zip\n",
        "!rm validation.zip\n",
        "\n",
        "!ls"
      ],
      "execution_count": 4,
      "outputs": [
        {
          "output_type": "stream",
          "text": [
            "gdrive.py  monkey_labels.txt  sutils.py  validation\n",
            "__MACOSX   sample_data\t      training\n"
          ],
          "name": "stdout"
        }
      ]
    },
    {
      "metadata": {
        "id": "_i6pbwqPjHGL",
        "colab_type": "code",
        "outputId": "33f16bbc-93a5-491d-ef38-a1b9485869d6",
        "colab": {
          "base_uri": "https://localhost:8080/",
          "height": 34
        }
      },
      "cell_type": "code",
      "source": [
        "%matplotlib inline\n",
        "import matplotlib.pyplot as plt\n",
        "\n",
        "\n",
        "from sutils import *\n",
        "import os, json\n",
        "from glob import glob\n",
        "import numpy as np\n",
        "\n",
        "import keras\n",
        "\n",
        "from tensorflow.keras import optimizers\n",
        "\n",
        "from tensorflow.keras.applications import InceptionV3\n",
        "from tensorflow.keras.applications.vgg16 import VGG16\n",
        "\n",
        "\n",
        "from tensorflow.python.keras.preprocessing import image\n",
        "from tensorflow.python.keras.preprocessing.image import ImageDataGenerator\n",
        "\n",
        "from tensorflow.python.keras.models import Model,load_model,Sequential\n",
        "\n",
        "from tensorflow.python.keras.layers import Dense, GlobalAveragePooling2D, Dropout,Flatten, Input, Conv2D, MaxPooling2D, Dropout, Flatten\n",
        "from tensorflow.python.keras import backend as K\n",
        "\n",
        "from tensorflow.keras.callbacks import ModelCheckpoint, Callback\n"
      ],
      "execution_count": 5,
      "outputs": [
        {
          "output_type": "stream",
          "text": [
            "Using TensorFlow backend.\n"
          ],
          "name": "stderr"
        }
      ]
    },
    {
      "metadata": {
        "id": "pezLfXOtjMvi",
        "colab_type": "code",
        "outputId": "cbf9344c-c9c9-4c9a-dd81-3f01478199c7",
        "colab": {
          "base_uri": "https://localhost:8080/",
          "height": 68
        }
      },
      "cell_type": "code",
      "source": [
        "print(tf.__version__)\n",
        "print(tf.keras.__version__)\n",
        "print(keras.__version__)"
      ],
      "execution_count": 6,
      "outputs": [
        {
          "output_type": "stream",
          "text": [
            "1.12.0\n",
            "2.1.6-tf\n",
            "2.2.4\n"
          ],
          "name": "stdout"
        }
      ]
    },
    {
      "metadata": {
        "id": "_puC9monjSVq",
        "colab_type": "code",
        "outputId": "61c4489f-4538-4d6b-c735-728a190f1922",
        "colab": {
          "base_uri": "https://localhost:8080/",
          "height": 34
        }
      },
      "cell_type": "code",
      "source": [
        "!ls training"
      ],
      "execution_count": 7,
      "outputs": [
        {
          "output_type": "stream",
          "text": [
            "n0  n1\tn2  n3\tn4  n5\tn6  n7\tn8  n9\n"
          ],
          "name": "stdout"
        }
      ]
    },
    {
      "metadata": {
        "id": "_80eRNWQjVzC",
        "colab_type": "code",
        "colab": {}
      },
      "cell_type": "code",
      "source": [
        "# Set up some Hyperparameters\n",
        "\n",
        "batch_size = 32\n",
        "epochs = 10\n",
        "\n",
        "lr = 0.001"
      ],
      "execution_count": 0,
      "outputs": []
    },
    {
      "metadata": {
        "id": "MT3VnGsbjY1c",
        "colab_type": "text"
      },
      "cell_type": "markdown",
      "source": [
        "## Converting raw files in folders into something we can feed into tf.data\n",
        "\n",
        "We use glob to get lists of the files in the directories and then convert them into dataframes and add in class numbers.\n",
        "\n",
        "\n",
        "Finally we randomly shuffle them up\n"
      ]
    },
    {
      "metadata": {
        "id": "tyxvIReujZ6a",
        "colab_type": "code",
        "outputId": "babb750c-a7ef-42c5-f1aa-811f0cef18c6",
        "colab": {
          "base_uri": "https://localhost:8080/",
          "height": 34
        }
      },
      "cell_type": "code",
      "source": [
        "import glob\n",
        "import pandas as pd\n",
        "\n",
        "#the groups\n",
        "filenames_n0 = glob.glob('./training/n0/*.jpg')\n",
        "filenames_n1 = glob.glob('./training/n1/*.jpg')\n",
        "filenames_n2 = glob.glob('./training/n2/*.jpg')\n",
        "filenames_n3 = glob.glob('./training/n3/*.jpg')\n",
        "filenames_n4 = glob.glob('./training/n4/*.jpg')\n",
        "filenames_n5 = glob.glob('./training/n5/*.jpg')\n",
        "filenames_n6 = glob.glob('./training/n6/*.jpg')\n",
        "filenames_n7 = glob.glob('./training/n7/*.jpg')\n",
        "filenames_n8 = glob.glob('./training/n8/*.jpg')\n",
        "filenames_n9 = glob.glob('./training/n9/*.jpg')\n",
        "\n",
        "names = ['alouatta_palliata', 'erythrocebus_patas','cacajao_calvus','macaca_fuscata','cebuella_pygmea'\n",
        "         ,'cebus_capucinus','mico_argentatus','saimiri_sciureus','aotus_nigriceps','trachypithecus_johnii']\n",
        "\n",
        "\n",
        "len(filenames_n0)\n",
        "\n"
      ],
      "execution_count": 9,
      "outputs": [
        {
          "output_type": "execute_result",
          "data": {
            "text/plain": [
              "105"
            ]
          },
          "metadata": {
            "tags": []
          },
          "execution_count": 9
        }
      ]
    },
    {
      "metadata": {
        "id": "91WuVKltl1K6",
        "colab_type": "code",
        "outputId": "3dd32667-6d90-4320-f222-644ffe11ccfc",
        "colab": {
          "base_uri": "https://localhost:8080/",
          "height": 204
        }
      },
      "cell_type": "code",
      "source": [
        "# Make a dataframe based on the filenames\n",
        "df = pd.DataFrame(filenames_n0, columns = [\"filename\"])\n",
        "df2 = pd.DataFrame(filenames_n1, columns = [\"filename\"])\n",
        "df3 = pd.DataFrame(filenames_n2, columns = [\"filename\"])\n",
        "df4 = pd.DataFrame(filenames_n3, columns = [\"filename\"])\n",
        "df5 = pd.DataFrame(filenames_n4, columns = [\"filename\"])\n",
        "df6 = pd.DataFrame(filenames_n5, columns = [\"filename\"])\n",
        "df7 = pd.DataFrame(filenames_n6, columns = [\"filename\"])\n",
        "df8 = pd.DataFrame(filenames_n7, columns = [\"filename\"])\n",
        "df9 = pd.DataFrame(filenames_n8, columns = [\"filename\"])\n",
        "df10 = pd.DataFrame(filenames_n9, columns = [\"filename\"])\n",
        "\n",
        "df.head()"
      ],
      "execution_count": 10,
      "outputs": [
        {
          "output_type": "execute_result",
          "data": {
            "text/html": [
              "<div>\n",
              "<style scoped>\n",
              "    .dataframe tbody tr th:only-of-type {\n",
              "        vertical-align: middle;\n",
              "    }\n",
              "\n",
              "    .dataframe tbody tr th {\n",
              "        vertical-align: top;\n",
              "    }\n",
              "\n",
              "    .dataframe thead th {\n",
              "        text-align: right;\n",
              "    }\n",
              "</style>\n",
              "<table border=\"1\" class=\"dataframe\">\n",
              "  <thead>\n",
              "    <tr style=\"text-align: right;\">\n",
              "      <th></th>\n",
              "      <th>filename</th>\n",
              "    </tr>\n",
              "  </thead>\n",
              "  <tbody>\n",
              "    <tr>\n",
              "      <th>0</th>\n",
              "      <td>./training/n0/n0174.jpg</td>\n",
              "    </tr>\n",
              "    <tr>\n",
              "      <th>1</th>\n",
              "      <td>./training/n0/n0142.jpg</td>\n",
              "    </tr>\n",
              "    <tr>\n",
              "      <th>2</th>\n",
              "      <td>./training/n0/n0139.jpg</td>\n",
              "    </tr>\n",
              "    <tr>\n",
              "      <th>3</th>\n",
              "      <td>./training/n0/n0032.jpg</td>\n",
              "    </tr>\n",
              "    <tr>\n",
              "      <th>4</th>\n",
              "      <td>./training/n0/n0021.jpg</td>\n",
              "    </tr>\n",
              "  </tbody>\n",
              "</table>\n",
              "</div>"
            ],
            "text/plain": [
              "                  filename\n",
              "0  ./training/n0/n0174.jpg\n",
              "1  ./training/n0/n0142.jpg\n",
              "2  ./training/n0/n0139.jpg\n",
              "3  ./training/n0/n0032.jpg\n",
              "4  ./training/n0/n0021.jpg"
            ]
          },
          "metadata": {
            "tags": []
          },
          "execution_count": 10
        }
      ]
    },
    {
      "metadata": {
        "id": "CIKDbXjImOzZ",
        "colab_type": "code",
        "outputId": "671c12ce-e64d-401b-f6e9-ca107077cdac",
        "colab": {
          "base_uri": "https://localhost:8080/",
          "height": 204
        }
      },
      "cell_type": "code",
      "source": [
        "\n",
        "# Add Class columns \n",
        "df['class'] = pd.Series([0 for x in range(len(df.index))], index=df.index)\n",
        "df2['class'] = pd.Series([1 for x in range(len(df2.index))], index=df2.index)\n",
        "df3['class'] = pd.Series([2 for x in range(len(df3.index))], index=df3.index)\n",
        "df4['class'] = pd.Series([3 for x in range(len(df4.index))], index=df4.index)\n",
        "df5['class'] = pd.Series([4 for x in range(len(df5.index))], index=df5.index)\n",
        "df6['class'] = pd.Series([5 for x in range(len(df6.index))], index=df6.index)\n",
        "df7['class'] = pd.Series([6 for x in range(len(df7.index))], index=df7.index)\n",
        "df8['class'] = pd.Series([7 for x in range(len(df8.index))], index=df8.index)\n",
        "df9['class'] = pd.Series([8 for x in range(len(df9.index))], index=df9.index)\n",
        "df10['class'] = pd.Series([9 for x in range(len(df10.index))], index=df10.index)\n",
        "\n",
        "df.head()"
      ],
      "execution_count": 11,
      "outputs": [
        {
          "output_type": "execute_result",
          "data": {
            "text/html": [
              "<div>\n",
              "<style scoped>\n",
              "    .dataframe tbody tr th:only-of-type {\n",
              "        vertical-align: middle;\n",
              "    }\n",
              "\n",
              "    .dataframe tbody tr th {\n",
              "        vertical-align: top;\n",
              "    }\n",
              "\n",
              "    .dataframe thead th {\n",
              "        text-align: right;\n",
              "    }\n",
              "</style>\n",
              "<table border=\"1\" class=\"dataframe\">\n",
              "  <thead>\n",
              "    <tr style=\"text-align: right;\">\n",
              "      <th></th>\n",
              "      <th>filename</th>\n",
              "      <th>class</th>\n",
              "    </tr>\n",
              "  </thead>\n",
              "  <tbody>\n",
              "    <tr>\n",
              "      <th>0</th>\n",
              "      <td>./training/n0/n0174.jpg</td>\n",
              "      <td>0</td>\n",
              "    </tr>\n",
              "    <tr>\n",
              "      <th>1</th>\n",
              "      <td>./training/n0/n0142.jpg</td>\n",
              "      <td>0</td>\n",
              "    </tr>\n",
              "    <tr>\n",
              "      <th>2</th>\n",
              "      <td>./training/n0/n0139.jpg</td>\n",
              "      <td>0</td>\n",
              "    </tr>\n",
              "    <tr>\n",
              "      <th>3</th>\n",
              "      <td>./training/n0/n0032.jpg</td>\n",
              "      <td>0</td>\n",
              "    </tr>\n",
              "    <tr>\n",
              "      <th>4</th>\n",
              "      <td>./training/n0/n0021.jpg</td>\n",
              "      <td>0</td>\n",
              "    </tr>\n",
              "  </tbody>\n",
              "</table>\n",
              "</div>"
            ],
            "text/plain": [
              "                  filename  class\n",
              "0  ./training/n0/n0174.jpg      0\n",
              "1  ./training/n0/n0142.jpg      0\n",
              "2  ./training/n0/n0139.jpg      0\n",
              "3  ./training/n0/n0032.jpg      0\n",
              "4  ./training/n0/n0021.jpg      0"
            ]
          },
          "metadata": {
            "tags": []
          },
          "execution_count": 11
        }
      ]
    },
    {
      "metadata": {
        "id": "bxoBvYCByxRf",
        "colab_type": "code",
        "colab": {}
      },
      "cell_type": "code",
      "source": [
        "# Split into train and validation sets\n",
        "train_set_percentage = .9\n",
        "\n",
        "\n",
        "train_df = df[:int(len(df)*train_set_percentage)]\n",
        "val_df = df[int(len(df)*train_set_percentage):]\n",
        "\n",
        "train_df2 = df2[:int(len(df2)*train_set_percentage)]\n",
        "val_df2 = df2[int(len(df2)*train_set_percentage):]\n",
        "\n",
        "train_df3 = df3[:int(len(df3)*train_set_percentage)]\n",
        "val_df3 = df3[int(len(df3)*train_set_percentage):]\n",
        "\n",
        "train_df4 = df4[:int(len(df4)*train_set_percentage)]\n",
        "val_df4 = df4[int(len(df4)*train_set_percentage):]\n",
        "\n",
        "train_df5 = df5[:int(len(df5)*train_set_percentage)]\n",
        "val_df5 = df5[int(len(df5)*train_set_percentage):]\n",
        "\n",
        "train_df6 = df6[:int(len(df6)*train_set_percentage)]\n",
        "val_df6 = df6[int(len(df6)*train_set_percentage):]\n",
        "\n",
        "train_df7 = df7[:int(len(df7)*train_set_percentage)]\n",
        "val_df7 = df7[int(len(df7)*train_set_percentage):]\n",
        "\n",
        "train_df8 = df8[:int(len(df8)*train_set_percentage)]\n",
        "val_df8 = df8[int(len(df8)*train_set_percentage):]\n",
        "\n",
        "train_df9 = df9[:int(len(df9)*train_set_percentage)]\n",
        "val_df9 = df9[int(len(df9)*train_set_percentage):]\n",
        "\n",
        "train_df10 = df10[:int(len(df10)*train_set_percentage)]\n",
        "val_df10 = df10[int(len(df10)*train_set_percentage):]\n",
        "\n",
        "\n",
        "\n",
        "\n",
        "\n",
        "df_new_train = pd.concat([train_df, train_df2, train_df3, train_df4, train_df5, train_df6, train_df7, train_df8, train_df9, train_df10])\n",
        "df_new_val = pd.concat([val_df, val_df2, val_df3, val_df4, val_df5, val_df6, val_df7, val_df8, val_df9, val_df10])\n",
        "\n",
        "df_new_train.shape\n",
        "\n",
        "#shuffle\n",
        "df = df_new_train.sample(frac=1).reset_index(drop=True)\n",
        "df_val = df_new_val.sample(frac=1).reset_index(drop=True)"
      ],
      "execution_count": 0,
      "outputs": []
    },
    {
      "metadata": {
        "id": "bel1rePkreA6",
        "colab_type": "text"
      },
      "cell_type": "markdown",
      "source": [
        "# Examine the Dataset\n",
        "\n",
        "lets look at what we have now. "
      ]
    },
    {
      "metadata": {
        "id": "8a4WmnNmrdi1",
        "colab_type": "code",
        "outputId": "6ef77a38-f399-4269-d7cc-d7a7e629360e",
        "colab": {
          "base_uri": "https://localhost:8080/",
          "height": 204
        }
      },
      "cell_type": "code",
      "source": [
        "df.head()"
      ],
      "execution_count": 13,
      "outputs": [
        {
          "output_type": "execute_result",
          "data": {
            "text/html": [
              "<div>\n",
              "<style scoped>\n",
              "    .dataframe tbody tr th:only-of-type {\n",
              "        vertical-align: middle;\n",
              "    }\n",
              "\n",
              "    .dataframe tbody tr th {\n",
              "        vertical-align: top;\n",
              "    }\n",
              "\n",
              "    .dataframe thead th {\n",
              "        text-align: right;\n",
              "    }\n",
              "</style>\n",
              "<table border=\"1\" class=\"dataframe\">\n",
              "  <thead>\n",
              "    <tr style=\"text-align: right;\">\n",
              "      <th></th>\n",
              "      <th>filename</th>\n",
              "      <th>class</th>\n",
              "    </tr>\n",
              "  </thead>\n",
              "  <tbody>\n",
              "    <tr>\n",
              "      <th>0</th>\n",
              "      <td>./training/n6/n6037.jpg</td>\n",
              "      <td>6</td>\n",
              "    </tr>\n",
              "    <tr>\n",
              "      <th>1</th>\n",
              "      <td>./training/n4/n4138.jpg</td>\n",
              "      <td>4</td>\n",
              "    </tr>\n",
              "    <tr>\n",
              "      <th>2</th>\n",
              "      <td>./training/n0/n0169.jpg</td>\n",
              "      <td>0</td>\n",
              "    </tr>\n",
              "    <tr>\n",
              "      <th>3</th>\n",
              "      <td>./training/n1/n1026.jpg</td>\n",
              "      <td>1</td>\n",
              "    </tr>\n",
              "    <tr>\n",
              "      <th>4</th>\n",
              "      <td>./training/n1/n1165.jpg</td>\n",
              "      <td>1</td>\n",
              "    </tr>\n",
              "  </tbody>\n",
              "</table>\n",
              "</div>"
            ],
            "text/plain": [
              "                  filename  class\n",
              "0  ./training/n6/n6037.jpg      6\n",
              "1  ./training/n4/n4138.jpg      4\n",
              "2  ./training/n0/n0169.jpg      0\n",
              "3  ./training/n1/n1026.jpg      1\n",
              "4  ./training/n1/n1165.jpg      1"
            ]
          },
          "metadata": {
            "tags": []
          },
          "execution_count": 13
        }
      ]
    },
    {
      "metadata": {
        "id": "04nZezeDsqDZ",
        "colab_type": "code",
        "outputId": "a239e9ba-49a4-4d04-d676-4bec2814a6d2",
        "colab": {
          "base_uri": "https://localhost:8080/",
          "height": 68
        }
      },
      "cell_type": "code",
      "source": [
        "#training - 1096 row, 2 col (filename & class)\n",
        "#validation - 272 row, 2 col (filename & class)\n",
        "print(df.shape)\n",
        "print(df_val.shape)\n",
        "\n",
        "df['class'].unique()"
      ],
      "execution_count": 14,
      "outputs": [
        {
          "output_type": "stream",
          "text": [
            "(981, 2)\n",
            "(115, 2)\n"
          ],
          "name": "stdout"
        },
        {
          "output_type": "execute_result",
          "data": {
            "text/plain": [
              "array([6, 4, 0, 1, 2, 9, 7, 3, 5, 8])"
            ]
          },
          "metadata": {
            "tags": []
          },
          "execution_count": 14
        }
      ]
    },
    {
      "metadata": {
        "id": "HTjCRJgZs7kx",
        "colab_type": "code",
        "outputId": "d61a5da2-fef9-48e2-d493-21ecc9e46686",
        "colab": {
          "base_uri": "https://localhost:8080/",
          "height": 468
        }
      },
      "cell_type": "code",
      "source": [
        "print(df['class'].value_counts())\n",
        "\n",
        "\n",
        "ax = df['class'].value_counts().plot.barh()\n",
        "ax.set_xlabel(\"Number of Examples\", fontsize=12)\n",
        "ax.set_ylabel(\"Monkey - training set\", fontsize=12)\n",
        "\n",
        "\n",
        "names = ['alouatta_palliata', 'erythrocebus_patas','cacajao_calvus','macaca_fuscata','cebuella_pygmea'\n",
        "         ,'cebus_capucinus','mico_argentatus','saimiri_sciureus','aotus_nigriceps','trachypithecus_johnii']\n",
        "\n",
        "ax.set_yticklabels(names, rotation=0, fontsize=12)\n",
        "\n",
        "\n",
        "\n",
        "plt.show()"
      ],
      "execution_count": 15,
      "outputs": [
        {
          "output_type": "stream",
          "text": [
            "3    109\n",
            "7    102\n",
            "5    101\n",
            "2     99\n",
            "1     99\n",
            "8     95\n",
            "6     95\n",
            "4     94\n",
            "0     94\n",
            "9     93\n",
            "Name: class, dtype: int64\n"
          ],
          "name": "stdout"
        },
        {
          "output_type": "display_data",
          "data": {
            "image/png": "[encoded data removed]",
            "text/plain": [
              "<matplotlib.figure.Figure at 0x7f463c22ee80>"
            ]
          },
          "metadata": {
            "tags": []
          }
        }
      ]
    },
    {
      "metadata": {
        "id": "ITs6MjVhtxS5",
        "colab_type": "code",
        "outputId": "1d539de8-3f1d-4594-f1d9-62555e2f5afe",
        "colab": {
          "base_uri": "https://localhost:8080/",
          "height": 34
        }
      },
      "cell_type": "code",
      "source": [
        "# convert the dataframe into 2 lists to use for filename and labels\n",
        "train_filenames_list = df[\"filename\"].tolist()\n",
        "train_labels_list = df[\"class\"].astype('int32').tolist()\n",
        "\n",
        "# convert the dataframe into 2 lists to use for filename and labels\n",
        "val_filenames_list = df_val[\"filename\"].tolist()\n",
        "val_labels_list = df_val[\"class\"].astype('int32').tolist()\n",
        "\n",
        "#number of classes\n",
        "num_classes = 10\n",
        "\n",
        "df.shape"
      ],
      "execution_count": 16,
      "outputs": [
        {
          "output_type": "execute_result",
          "data": {
            "text/plain": [
              "(981, 2)"
            ]
          },
          "metadata": {
            "tags": []
          },
          "execution_count": 16
        }
      ]
    },
    {
      "metadata": {
        "id": "dwJ765_st-Dx",
        "colab_type": "text"
      },
      "cell_type": "markdown",
      "source": [
        "## Make the pipeline for loading and resizing the images"
      ]
    },
    {
      "metadata": {
        "id": "Xb742qcxt_81",
        "colab_type": "code",
        "colab": {}
      },
      "cell_type": "code",
      "source": [
        "# Reads an image from a file, decodes it into a tensor, and resizes it\n",
        "# to a fixed shape.\n",
        "img_rows, img_cols = 299,299\n",
        "\n",
        "def _parse_function(filename, label):\n",
        "  image_string = tf.read_file(filename)\n",
        "  image_decoded = tf.image.decode_jpeg(image_string)\n",
        "  image_resized = tf.image.resize_images(image_decoded, [img_rows, img_cols])\n",
        "  label = tf.one_hot(label, num_classes)\n",
        "  return image_resized, label"
      ],
      "execution_count": 0,
      "outputs": []
    },
    {
      "metadata": {
        "id": "wjZVB5BlvXmS",
        "colab_type": "code",
        "colab": {}
      },
      "cell_type": "code",
      "source": [
        "# A vector of filenames - from a list\n",
        "filenames = tf.constant(train_filenames_list)\n",
        "\n",
        "# Labels that match the training files - from a list\n",
        "labels = tf.constant(train_labels_list)\n",
        "\n",
        "# Same as above but for validation set\n",
        "val_filenames = tf.constant(val_filenames_list)\n",
        "val_labels = tf.constant(val_labels_list)\n"
      ],
      "execution_count": 0,
      "outputs": []
    },
    {
      "metadata": {
        "id": "eWQhp0EFvZ0Z",
        "colab_type": "text"
      },
      "cell_type": "markdown",
      "source": [
        "## Assembling the Data pipeline using tf.data"
      ]
    },
    {
      "metadata": {
        "id": "u6DcyADhvaiQ",
        "colab_type": "code",
        "colab": {}
      },
      "cell_type": "code",
      "source": [
        "train_dataset = tf.data.Dataset.from_tensor_slices((filenames, labels))\n",
        "train_dataset = train_dataset.map(_parse_function)\n",
        "train_dataset = train_dataset.repeat(100)\n",
        "train_dataset = train_dataset.batch(23)"
      ],
      "execution_count": 0,
      "outputs": []
    },
    {
      "metadata": {
        "id": "gTFey-tcvdIB",
        "colab_type": "code",
        "colab": {}
      },
      "cell_type": "code",
      "source": [
        "valid_dataset = tf.data.Dataset.from_tensor_slices((val_filenames, val_labels))\n",
        "valid_dataset = valid_dataset.map(_parse_function)\n",
        "valid_dataset = valid_dataset.repeat(100)\n",
        "valid_dataset = valid_dataset.batch(23)"
      ],
      "execution_count": 0,
      "outputs": []
    },
    {
      "metadata": {
        "id": "qeWic5kEHJmV",
        "colab_type": "code",
        "colab": {}
      },
      "cell_type": "code",
      "source": [
        "test_dataset = tf.data.Dataset.from_tensor_slices((val_filenames, val_labels))\n",
        "test_dataset = test_dataset.map(_parse_function)\n",
        "test_dataset = test_dataset.repeat(1)\n",
        "test_dataset = test_dataset.batch(115)"
      ],
      "execution_count": 0,
      "outputs": []
    },
    {
      "metadata": {
        "id": "BU50P0JMvf_D",
        "colab_type": "text"
      },
      "cell_type": "markdown",
      "source": [
        "## Create the network"
      ]
    },
    {
      "metadata": {
        "id": "XGZ0OO1LvjBJ",
        "colab_type": "code",
        "outputId": "b6ff6725-60f5-40ce-e6b2-57951608441b",
        "colab": {
          "base_uri": "https://localhost:8080/",
          "height": 51
        }
      },
      "cell_type": "code",
      "source": [
        "# create the base pre-trained model\n",
        "base_model = InceptionV3(weights='imagenet', include_top=False)"
      ],
      "execution_count": 22,
      "outputs": [
        {
          "output_type": "stream",
          "text": [
            "Downloading data from https://github.com/fchollet/deep-learning-models/releases/download/v0.5/inception_v3_weights_tf_dim_ordering_tf_kernels_notop.h5\n",
            "87916544/87910968 [==============================] - 8s 0us/step\n"
          ],
          "name": "stdout"
        }
      ]
    },
    {
      "metadata": {
        "id": "UtUYvqbNvkI5",
        "colab_type": "code",
        "outputId": "29f49619-22f7-430b-b036-9a8b3b571555",
        "colab": {
          "base_uri": "https://localhost:8080/",
          "height": 11305
        }
      },
      "cell_type": "code",
      "source": [
        "base_model.summary()"
      ],
      "execution_count": 23,
      "outputs": [
        {
          "output_type": "stream",
          "text": [
            "__________________________________________________________________________________________________\n",
            "Layer (type)                    Output Shape         Param #     Connected to                     \n",
            "==================================================================================================\n",
            "input_1 (InputLayer)            (None, None, None, 3 0                                            \n",
            "__________________________________________________________________________________________________\n",
            "conv2d (Conv2D)                 (None, None, None, 3 864         input_1[0][0]                    \n",
            "__________________________________________________________________________________________________\n",
            "batch_normalization (BatchNorma (None, None, None, 3 96          conv2d[0][0]                     \n",
            "__________________________________________________________________________________________________\n",
            "activation (Activation)         (None, None, None, 3 0           batch_normalization[0][0]        \n",
            "__________________________________________________________________________________________________\n",
            "conv2d_1 (Conv2D)               (None, None, None, 3 9216        activation[0][0]                 \n",
            "__________________________________________________________________________________________________\n",
            "batch_normalization_1 (BatchNor (None, None, None, 3 96          conv2d_1[0][0]                   \n",
            "__________________________________________________________________________________________________\n",
            "activation_1 (Activation)       (None, None, None, 3 0           batch_normalization_1[0][0]      \n",
            "__________________________________________________________________________________________________\n",
            "conv2d_2 (Conv2D)               (None, None, None, 6 18432       activation_1[0][0]               \n",
            "__________________________________________________________________________________________________\n",
            "batch_normalization_2 (BatchNor (None, None, None, 6 192         conv2d_2[0][0]                   \n",
            "__________________________________________________________________________________________________\n",
            "activation_2 (Activation)       (None, None, None, 6 0           batch_normalization_2[0][0]      \n",
            "__________________________________________________________________________________________________\n",
            "max_pooling2d (MaxPooling2D)    (None, None, None, 6 0           activation_2[0][0]               \n",
            "__________________________________________________________________________________________________\n",
            "conv2d_3 (Conv2D)               (None, None, None, 8 5120        max_pooling2d[0][0]              \n",
            "__________________________________________________________________________________________________\n",
            "batch_normalization_3 (BatchNor (None, None, None, 8 240         conv2d_3[0][0]                   \n",
            "__________________________________________________________________________________________________\n",
            "activation_3 (Activation)       (None, None, None, 8 0           batch_normalization_3[0][0]      \n",
            "__________________________________________________________________________________________________\n",
            "conv2d_4 (Conv2D)               (None, None, None, 1 138240      activation_3[0][0]               \n",
            "__________________________________________________________________________________________________\n",
            "batch_normalization_4 (BatchNor (None, None, None, 1 576         conv2d_4[0][0]                   \n",
            "__________________________________________________________________________________________________\n",
            "activation_4 (Activation)       (None, None, None, 1 0           batch_normalization_4[0][0]      \n",
            "__________________________________________________________________________________________________\n",
            "max_pooling2d_1 (MaxPooling2D)  (None, None, None, 1 0           activation_4[0][0]               \n",
            "__________________________________________________________________________________________________\n",
            "conv2d_8 (Conv2D)               (None, None, None, 6 12288       max_pooling2d_1[0][0]            \n",
            "__________________________________________________________________________________________________\n",
            "batch_normalization_8 (BatchNor (None, None, None, 6 192         conv2d_8[0][0]                   \n",
            "__________________________________________________________________________________________________\n",
            "activation_8 (Activation)       (None, None, None, 6 0           batch_normalization_8[0][0]      \n",
            "__________________________________________________________________________________________________\n",
            "conv2d_6 (Conv2D)               (None, None, None, 4 9216        max_pooling2d_1[0][0]            \n",
            "__________________________________________________________________________________________________\n",
            "conv2d_9 (Conv2D)               (None, None, None, 9 55296       activation_8[0][0]               \n",
            "__________________________________________________________________________________________________\n",
            "batch_normalization_6 (BatchNor (None, None, None, 4 144         conv2d_6[0][0]                   \n",
            "__________________________________________________________________________________________________\n",
            "batch_normalization_9 (BatchNor (None, None, None, 9 288         conv2d_9[0][0]                   \n",
            "__________________________________________________________________________________________________\n",
            "activation_6 (Activation)       (None, None, None, 4 0           batch_normalization_6[0][0]      \n",
            "__________________________________________________________________________________________________\n",
            "activation_9 (Activation)       (None, None, None, 9 0           batch_normalization_9[0][0]      \n",
            "__________________________________________________________________________________________________\n",
            "average_pooling2d (AveragePooli (None, None, None, 1 0           max_pooling2d_1[0][0]            \n",
            "__________________________________________________________________________________________________\n",
            "conv2d_5 (Conv2D)               (None, None, None, 6 12288       max_pooling2d_1[0][0]            \n",
            "__________________________________________________________________________________________________\n",
            "conv2d_7 (Conv2D)               (None, None, None, 6 76800       activation_6[0][0]               \n",
            "__________________________________________________________________________________________________\n",
            "conv2d_10 (Conv2D)              (None, None, None, 9 82944       activation_9[0][0]               \n",
            "__________________________________________________________________________________________________\n",
            "conv2d_11 (Conv2D)              (None, None, None, 3 6144        average_pooling2d[0][0]          \n",
            "__________________________________________________________________________________________________\n",
            "batch_normalization_5 (BatchNor (None, None, None, 6 192         conv2d_5[0][0]                   \n",
            "__________________________________________________________________________________________________\n",
            "batch_normalization_7 (BatchNor (None, None, None, 6 192         conv2d_7[0][0]                   \n",
            "__________________________________________________________________________________________________\n",
            "batch_normalization_10 (BatchNo (None, None, None, 9 288         conv2d_10[0][0]                  \n",
            "__________________________________________________________________________________________________\n",
            "batch_normalization_11 (BatchNo (None, None, None, 3 96          conv2d_11[0][0]                  \n",
            "__________________________________________________________________________________________________\n",
            "activation_5 (Activation)       (None, None, None, 6 0           batch_normalization_5[0][0]      \n",
            "__________________________________________________________________________________________________\n",
            "activation_7 (Activation)       (None, None, None, 6 0           batch_normalization_7[0][0]      \n",
            "__________________________________________________________________________________________________\n",
            "activation_10 (Activation)      (None, None, None, 9 0           batch_normalization_10[0][0]     \n",
            "__________________________________________________________________________________________________\n",
            "activation_11 (Activation)      (None, None, None, 3 0           batch_normalization_11[0][0]     \n",
            "__________________________________________________________________________________________________\n",
            "mixed0 (Concatenate)            (None, None, None, 2 0           activation_5[0][0]               \n",
            "                                                                 activation_7[0][0]               \n",
            "                                                                 activation_10[0][0]              \n",
            "                                                                 activation_11[0][0]              \n",
            "__________________________________________________________________________________________________\n",
            "conv2d_15 (Conv2D)              (None, None, None, 6 16384       mixed0[0][0]                     \n",
            "__________________________________________________________________________________________________\n",
            "batch_normalization_15 (BatchNo (None, None, None, 6 192         conv2d_15[0][0]                  \n",
            "__________________________________________________________________________________________________\n",
            "activation_15 (Activation)      (None, None, None, 6 0           batch_normalization_15[0][0]     \n",
            "__________________________________________________________________________________________________\n",
            "conv2d_13 (Conv2D)              (None, None, None, 4 12288       mixed0[0][0]                     \n",
            "__________________________________________________________________________________________________\n",
            "conv2d_16 (Conv2D)              (None, None, None, 9 55296       activation_15[0][0]              \n",
            "__________________________________________________________________________________________________\n",
            "batch_normalization_13 (BatchNo (None, None, None, 4 144         conv2d_13[0][0]                  \n",
            "__________________________________________________________________________________________________\n",
            "batch_normalization_16 (BatchNo (None, None, None, 9 288         conv2d_16[0][0]                  \n",
            "__________________________________________________________________________________________________\n",
            "activation_13 (Activation)      (None, None, None, 4 0           batch_normalization_13[0][0]     \n",
            "__________________________________________________________________________________________________\n",
            "activation_16 (Activation)      (None, None, None, 9 0           batch_normalization_16[0][0]     \n",
            "__________________________________________________________________________________________________\n",
            "average_pooling2d_1 (AveragePoo (None, None, None, 2 0           mixed0[0][0]                     \n",
            "__________________________________________________________________________________________________\n",
            "conv2d_12 (Conv2D)              (None, None, None, 6 16384       mixed0[0][0]                     \n",
            "__________________________________________________________________________________________________\n",
            "conv2d_14 (Conv2D)              (None, None, None, 6 76800       activation_13[0][0]              \n",
            "__________________________________________________________________________________________________\n",
            "conv2d_17 (Conv2D)              (None, None, None, 9 82944       activation_16[0][0]              \n",
            "__________________________________________________________________________________________________\n",
            "conv2d_18 (Conv2D)              (None, None, None, 6 16384       average_pooling2d_1[0][0]        \n",
            "__________________________________________________________________________________________________\n",
            "batch_normalization_12 (BatchNo (None, None, None, 6 192         conv2d_12[0][0]                  \n",
            "__________________________________________________________________________________________________\n",
            "batch_normalization_14 (BatchNo (None, None, None, 6 192         conv2d_14[0][0]                  \n",
            "__________________________________________________________________________________________________\n",
            "batch_normalization_17 (BatchNo (None, None, None, 9 288         conv2d_17[0][0]                  \n",
            "__________________________________________________________________________________________________\n",
            "batch_normalization_18 (BatchNo (None, None, None, 6 192         conv2d_18[0][0]                  \n",
            "__________________________________________________________________________________________________\n",
            "activation_12 (Activation)      (None, None, None, 6 0           batch_normalization_12[0][0]     \n",
            "__________________________________________________________________________________________________\n",
            "activation_14 (Activation)      (None, None, None, 6 0           batch_normalization_14[0][0]     \n",
            "__________________________________________________________________________________________________\n",
            "activation_17 (Activation)      (None, None, None, 9 0           batch_normalization_17[0][0]     \n",
            "__________________________________________________________________________________________________\n",
            "activation_18 (Activation)      (None, None, None, 6 0           batch_normalization_18[0][0]     \n",
            "__________________________________________________________________________________________________\n",
            "mixed1 (Concatenate)            (None, None, None, 2 0           activation_12[0][0]              \n",
            "                                                                 activation_14[0][0]              \n",
            "                                                                 activation_17[0][0]              \n",
            "                                                                 activation_18[0][0]              \n",
            "__________________________________________________________________________________________________\n",
            "conv2d_22 (Conv2D)              (None, None, None, 6 18432       mixed1[0][0]                     \n",
            "__________________________________________________________________________________________________\n",
            "batch_normalization_22 (BatchNo (None, None, None, 6 192         conv2d_22[0][0]                  \n",
            "__________________________________________________________________________________________________\n",
            "activation_22 (Activation)      (None, None, None, 6 0           batch_normalization_22[0][0]     \n",
            "__________________________________________________________________________________________________\n",
            "conv2d_20 (Conv2D)              (None, None, None, 4 13824       mixed1[0][0]                     \n",
            "__________________________________________________________________________________________________\n",
            "conv2d_23 (Conv2D)              (None, None, None, 9 55296       activation_22[0][0]              \n",
            "__________________________________________________________________________________________________\n",
            "batch_normalization_20 (BatchNo (None, None, None, 4 144         conv2d_20[0][0]                  \n",
            "__________________________________________________________________________________________________\n",
            "batch_normalization_23 (BatchNo (None, None, None, 9 288         conv2d_23[0][0]                  \n",
            "__________________________________________________________________________________________________\n",
            "activation_20 (Activation)      (None, None, None, 4 0           batch_normalization_20[0][0]     \n",
            "__________________________________________________________________________________________________\n",
            "activation_23 (Activation)      (None, None, None, 9 0           batch_normalization_23[0][0]     \n",
            "__________________________________________________________________________________________________\n",
            "average_pooling2d_2 (AveragePoo (None, None, None, 2 0           mixed1[0][0]                     \n",
            "__________________________________________________________________________________________________\n",
            "conv2d_19 (Conv2D)              (None, None, None, 6 18432       mixed1[0][0]                     \n",
            "__________________________________________________________________________________________________\n",
            "conv2d_21 (Conv2D)              (None, None, None, 6 76800       activation_20[0][0]              \n",
            "__________________________________________________________________________________________________\n",
            "conv2d_24 (Conv2D)              (None, None, None, 9 82944       activation_23[0][0]              \n",
            "__________________________________________________________________________________________________\n",
            "conv2d_25 (Conv2D)              (None, None, None, 6 18432       average_pooling2d_2[0][0]        \n",
            "__________________________________________________________________________________________________\n",
            "batch_normalization_19 (BatchNo (None, None, None, 6 192         conv2d_19[0][0]                  \n",
            "__________________________________________________________________________________________________\n",
            "batch_normalization_21 (BatchNo (None, None, None, 6 192         conv2d_21[0][0]                  \n",
            "__________________________________________________________________________________________________\n",
            "batch_normalization_24 (BatchNo (None, None, None, 9 288         conv2d_24[0][0]                  \n",
            "__________________________________________________________________________________________________\n",
            "batch_normalization_25 (BatchNo (None, None, None, 6 192         conv2d_25[0][0]                  \n",
            "__________________________________________________________________________________________________\n",
            "activation_19 (Activation)      (None, None, None, 6 0           batch_normalization_19[0][0]     \n",
            "__________________________________________________________________________________________________\n",
            "activation_21 (Activation)      (None, None, None, 6 0           batch_normalization_21[0][0]     \n",
            "__________________________________________________________________________________________________\n",
            "activation_24 (Activation)      (None, None, None, 9 0           batch_normalization_24[0][0]     \n",
            "__________________________________________________________________________________________________\n",
            "activation_25 (Activation)      (None, None, None, 6 0           batch_normalization_25[0][0]     \n",
            "__________________________________________________________________________________________________\n",
            "mixed2 (Concatenate)            (None, None, None, 2 0           activation_19[0][0]              \n",
            "                                                                 activation_21[0][0]              \n",
            "                                                                 activation_24[0][0]              \n",
            "                                                                 activation_25[0][0]              \n",
            "__________________________________________________________________________________________________\n",
            "conv2d_27 (Conv2D)              (None, None, None, 6 18432       mixed2[0][0]                     \n",
            "__________________________________________________________________________________________________\n",
            "batch_normalization_27 (BatchNo (None, None, None, 6 192         conv2d_27[0][0]                  \n",
            "__________________________________________________________________________________________________\n",
            "activation_27 (Activation)      (None, None, None, 6 0           batch_normalization_27[0][0]     \n",
            "__________________________________________________________________________________________________\n",
            "conv2d_28 (Conv2D)              (None, None, None, 9 55296       activation_27[0][0]              \n",
            "__________________________________________________________________________________________________\n",
            "batch_normalization_28 (BatchNo (None, None, None, 9 288         conv2d_28[0][0]                  \n",
            "__________________________________________________________________________________________________\n",
            "activation_28 (Activation)      (None, None, None, 9 0           batch_normalization_28[0][0]     \n",
            "__________________________________________________________________________________________________\n",
            "conv2d_26 (Conv2D)              (None, None, None, 3 995328      mixed2[0][0]                     \n",
            "__________________________________________________________________________________________________\n",
            "conv2d_29 (Conv2D)              (None, None, None, 9 82944       activation_28[0][0]              \n",
            "__________________________________________________________________________________________________\n",
            "batch_normalization_26 (BatchNo (None, None, None, 3 1152        conv2d_26[0][0]                  \n",
            "__________________________________________________________________________________________________\n",
            "batch_normalization_29 (BatchNo (None, None, None, 9 288         conv2d_29[0][0]                  \n",
            "__________________________________________________________________________________________________\n",
            "activation_26 (Activation)      (None, None, None, 3 0           batch_normalization_26[0][0]     \n",
            "__________________________________________________________________________________________________\n",
            "activation_29 (Activation)      (None, None, None, 9 0           batch_normalization_29[0][0]     \n",
            "__________________________________________________________________________________________________\n",
            "max_pooling2d_2 (MaxPooling2D)  (None, None, None, 2 0           mixed2[0][0]                     \n",
            "__________________________________________________________________________________________________\n",
            "mixed3 (Concatenate)            (None, None, None, 7 0           activation_26[0][0]              \n",
            "                                                                 activation_29[0][0]              \n",
            "                                                                 max_pooling2d_2[0][0]            \n",
            "__________________________________________________________________________________________________\n",
            "conv2d_34 (Conv2D)              (None, None, None, 1 98304       mixed3[0][0]                     \n",
            "__________________________________________________________________________________________________\n",
            "batch_normalization_34 (BatchNo (None, None, None, 1 384         conv2d_34[0][0]                  \n",
            "__________________________________________________________________________________________________\n",
            "activation_34 (Activation)      (None, None, None, 1 0           batch_normalization_34[0][0]     \n",
            "__________________________________________________________________________________________________\n",
            "conv2d_35 (Conv2D)              (None, None, None, 1 114688      activation_34[0][0]              \n",
            "__________________________________________________________________________________________________\n",
            "batch_normalization_35 (BatchNo (None, None, None, 1 384         conv2d_35[0][0]                  \n",
            "__________________________________________________________________________________________________\n",
            "activation_35 (Activation)      (None, None, None, 1 0           batch_normalization_35[0][0]     \n",
            "__________________________________________________________________________________________________\n",
            "conv2d_31 (Conv2D)              (None, None, None, 1 98304       mixed3[0][0]                     \n",
            "__________________________________________________________________________________________________\n",
            "conv2d_36 (Conv2D)              (None, None, None, 1 114688      activation_35[0][0]              \n",
            "__________________________________________________________________________________________________\n",
            "batch_normalization_31 (BatchNo (None, None, None, 1 384         conv2d_31[0][0]                  \n",
            "__________________________________________________________________________________________________\n",
            "batch_normalization_36 (BatchNo (None, None, None, 1 384         conv2d_36[0][0]                  \n",
            "__________________________________________________________________________________________________\n",
            "activation_31 (Activation)      (None, None, None, 1 0           batch_normalization_31[0][0]     \n",
            "__________________________________________________________________________________________________\n",
            "activation_36 (Activation)      (None, None, None, 1 0           batch_normalization_36[0][0]     \n",
            "__________________________________________________________________________________________________\n",
            "conv2d_32 (Conv2D)              (None, None, None, 1 114688      activation_31[0][0]              \n",
            "__________________________________________________________________________________________________\n",
            "conv2d_37 (Conv2D)              (None, None, None, 1 114688      activation_36[0][0]              \n",
            "__________________________________________________________________________________________________\n",
            "batch_normalization_32 (BatchNo (None, None, None, 1 384         conv2d_32[0][0]                  \n",
            "__________________________________________________________________________________________________\n",
            "batch_normalization_37 (BatchNo (None, None, None, 1 384         conv2d_37[0][0]                  \n",
            "__________________________________________________________________________________________________\n",
            "activation_32 (Activation)      (None, None, None, 1 0           batch_normalization_32[0][0]     \n",
            "__________________________________________________________________________________________________\n",
            "activation_37 (Activation)      (None, None, None, 1 0           batch_normalization_37[0][0]     \n",
            "__________________________________________________________________________________________________\n",
            "average_pooling2d_3 (AveragePoo (None, None, None, 7 0           mixed3[0][0]                     \n",
            "__________________________________________________________________________________________________\n",
            "conv2d_30 (Conv2D)              (None, None, None, 1 147456      mixed3[0][0]                     \n",
            "__________________________________________________________________________________________________\n",
            "conv2d_33 (Conv2D)              (None, None, None, 1 172032      activation_32[0][0]              \n",
            "__________________________________________________________________________________________________\n",
            "conv2d_38 (Conv2D)              (None, None, None, 1 172032      activation_37[0][0]              \n",
            "__________________________________________________________________________________________________\n",
            "conv2d_39 (Conv2D)              (None, None, None, 1 147456      average_pooling2d_3[0][0]        \n",
            "__________________________________________________________________________________________________\n",
            "batch_normalization_30 (BatchNo (None, None, None, 1 576         conv2d_30[0][0]                  \n",
            "__________________________________________________________________________________________________\n",
            "batch_normalization_33 (BatchNo (None, None, None, 1 576         conv2d_33[0][0]                  \n",
            "__________________________________________________________________________________________________\n",
            "batch_normalization_38 (BatchNo (None, None, None, 1 576         conv2d_38[0][0]                  \n",
            "__________________________________________________________________________________________________\n",
            "batch_normalization_39 (BatchNo (None, None, None, 1 576         conv2d_39[0][0]                  \n",
            "__________________________________________________________________________________________________\n",
            "activation_30 (Activation)      (None, None, None, 1 0           batch_normalization_30[0][0]     \n",
            "__________________________________________________________________________________________________\n",
            "activation_33 (Activation)      (None, None, None, 1 0           batch_normalization_33[0][0]     \n",
            "__________________________________________________________________________________________________\n",
            "activation_38 (Activation)      (None, None, None, 1 0           batch_normalization_38[0][0]     \n",
            "__________________________________________________________________________________________________\n",
            "activation_39 (Activation)      (None, None, None, 1 0           batch_normalization_39[0][0]     \n",
            "__________________________________________________________________________________________________\n",
            "mixed4 (Concatenate)            (None, None, None, 7 0           activation_30[0][0]              \n",
            "                                                                 activation_33[0][0]              \n",
            "                                                                 activation_38[0][0]              \n",
            "                                                                 activation_39[0][0]              \n",
            "__________________________________________________________________________________________________\n",
            "conv2d_44 (Conv2D)              (None, None, None, 1 122880      mixed4[0][0]                     \n",
            "__________________________________________________________________________________________________\n",
            "batch_normalization_44 (BatchNo (None, None, None, 1 480         conv2d_44[0][0]                  \n",
            "__________________________________________________________________________________________________\n",
            "activation_44 (Activation)      (None, None, None, 1 0           batch_normalization_44[0][0]     \n",
            "__________________________________________________________________________________________________\n",
            "conv2d_45 (Conv2D)              (None, None, None, 1 179200      activation_44[0][0]              \n",
            "__________________________________________________________________________________________________\n",
            "batch_normalization_45 (BatchNo (None, None, None, 1 480         conv2d_45[0][0]                  \n",
            "__________________________________________________________________________________________________\n",
            "activation_45 (Activation)      (None, None, None, 1 0           batch_normalization_45[0][0]     \n",
            "__________________________________________________________________________________________________\n",
            "conv2d_41 (Conv2D)              (None, None, None, 1 122880      mixed4[0][0]                     \n",
            "__________________________________________________________________________________________________\n",
            "conv2d_46 (Conv2D)              (None, None, None, 1 179200      activation_45[0][0]              \n",
            "__________________________________________________________________________________________________\n",
            "batch_normalization_41 (BatchNo (None, None, None, 1 480         conv2d_41[0][0]                  \n",
            "__________________________________________________________________________________________________\n",
            "batch_normalization_46 (BatchNo (None, None, None, 1 480         conv2d_46[0][0]                  \n",
            "__________________________________________________________________________________________________\n",
            "activation_41 (Activation)      (None, None, None, 1 0           batch_normalization_41[0][0]     \n",
            "__________________________________________________________________________________________________\n",
            "activation_46 (Activation)      (None, None, None, 1 0           batch_normalization_46[0][0]     \n",
            "__________________________________________________________________________________________________\n",
            "conv2d_42 (Conv2D)              (None, None, None, 1 179200      activation_41[0][0]              \n",
            "__________________________________________________________________________________________________\n",
            "conv2d_47 (Conv2D)              (None, None, None, 1 179200      activation_46[0][0]              \n",
            "__________________________________________________________________________________________________\n",
            "batch_normalization_42 (BatchNo (None, None, None, 1 480         conv2d_42[0][0]                  \n",
            "__________________________________________________________________________________________________\n",
            "batch_normalization_47 (BatchNo (None, None, None, 1 480         conv2d_47[0][0]                  \n",
            "__________________________________________________________________________________________________\n",
            "activation_42 (Activation)      (None, None, None, 1 0           batch_normalization_42[0][0]     \n",
            "__________________________________________________________________________________________________\n",
            "activation_47 (Activation)      (None, None, None, 1 0           batch_normalization_47[0][0]     \n",
            "__________________________________________________________________________________________________\n",
            "average_pooling2d_4 (AveragePoo (None, None, None, 7 0           mixed4[0][0]                     \n",
            "__________________________________________________________________________________________________\n",
            "conv2d_40 (Conv2D)              (None, None, None, 1 147456      mixed4[0][0]                     \n",
            "__________________________________________________________________________________________________\n",
            "conv2d_43 (Conv2D)              (None, None, None, 1 215040      activation_42[0][0]              \n",
            "__________________________________________________________________________________________________\n",
            "conv2d_48 (Conv2D)              (None, None, None, 1 215040      activation_47[0][0]              \n",
            "__________________________________________________________________________________________________\n",
            "conv2d_49 (Conv2D)              (None, None, None, 1 147456      average_pooling2d_4[0][0]        \n",
            "__________________________________________________________________________________________________\n",
            "batch_normalization_40 (BatchNo (None, None, None, 1 576         conv2d_40[0][0]                  \n",
            "__________________________________________________________________________________________________\n",
            "batch_normalization_43 (BatchNo (None, None, None, 1 576         conv2d_43[0][0]                  \n",
            "__________________________________________________________________________________________________\n",
            "batch_normalization_48 (BatchNo (None, None, None, 1 576         conv2d_48[0][0]                  \n",
            "__________________________________________________________________________________________________\n",
            "batch_normalization_49 (BatchNo (None, None, None, 1 576         conv2d_49[0][0]                  \n",
            "__________________________________________________________________________________________________\n",
            "activation_40 (Activation)      (None, None, None, 1 0           batch_normalization_40[0][0]     \n",
            "__________________________________________________________________________________________________\n",
            "activation_43 (Activation)      (None, None, None, 1 0           batch_normalization_43[0][0]     \n",
            "__________________________________________________________________________________________________\n",
            "activation_48 (Activation)      (None, None, None, 1 0           batch_normalization_48[0][0]     \n",
            "__________________________________________________________________________________________________\n",
            "activation_49 (Activation)      (None, None, None, 1 0           batch_normalization_49[0][0]     \n",
            "__________________________________________________________________________________________________\n",
            "mixed5 (Concatenate)            (None, None, None, 7 0           activation_40[0][0]              \n",
            "                                                                 activation_43[0][0]              \n",
            "                                                                 activation_48[0][0]              \n",
            "                                                                 activation_49[0][0]              \n",
            "__________________________________________________________________________________________________\n",
            "conv2d_54 (Conv2D)              (None, None, None, 1 122880      mixed5[0][0]                     \n",
            "__________________________________________________________________________________________________\n",
            "batch_normalization_54 (BatchNo (None, None, None, 1 480         conv2d_54[0][0]                  \n",
            "__________________________________________________________________________________________________\n",
            "activation_54 (Activation)      (None, None, None, 1 0           batch_normalization_54[0][0]     \n",
            "__________________________________________________________________________________________________\n",
            "conv2d_55 (Conv2D)              (None, None, None, 1 179200      activation_54[0][0]              \n",
            "__________________________________________________________________________________________________\n",
            "batch_normalization_55 (BatchNo (None, None, None, 1 480         conv2d_55[0][0]                  \n",
            "__________________________________________________________________________________________________\n",
            "activation_55 (Activation)      (None, None, None, 1 0           batch_normalization_55[0][0]     \n",
            "__________________________________________________________________________________________________\n",
            "conv2d_51 (Conv2D)              (None, None, None, 1 122880      mixed5[0][0]                     \n",
            "__________________________________________________________________________________________________\n",
            "conv2d_56 (Conv2D)              (None, None, None, 1 179200      activation_55[0][0]              \n",
            "__________________________________________________________________________________________________\n",
            "batch_normalization_51 (BatchNo (None, None, None, 1 480         conv2d_51[0][0]                  \n",
            "__________________________________________________________________________________________________\n",
            "batch_normalization_56 (BatchNo (None, None, None, 1 480         conv2d_56[0][0]                  \n",
            "__________________________________________________________________________________________________\n",
            "activation_51 (Activation)      (None, None, None, 1 0           batch_normalization_51[0][0]     \n",
            "__________________________________________________________________________________________________\n",
            "activation_56 (Activation)      (None, None, None, 1 0           batch_normalization_56[0][0]     \n",
            "__________________________________________________________________________________________________\n",
            "conv2d_52 (Conv2D)              (None, None, None, 1 179200      activation_51[0][0]              \n",
            "__________________________________________________________________________________________________\n",
            "conv2d_57 (Conv2D)              (None, None, None, 1 179200      activation_56[0][0]              \n",
            "__________________________________________________________________________________________________\n",
            "batch_normalization_52 (BatchNo (None, None, None, 1 480         conv2d_52[0][0]                  \n",
            "__________________________________________________________________________________________________\n",
            "batch_normalization_57 (BatchNo (None, None, None, 1 480         conv2d_57[0][0]                  \n",
            "__________________________________________________________________________________________________\n",
            "activation_52 (Activation)      (None, None, None, 1 0           batch_normalization_52[0][0]     \n",
            "__________________________________________________________________________________________________\n",
            "activation_57 (Activation)      (None, None, None, 1 0           batch_normalization_57[0][0]     \n",
            "__________________________________________________________________________________________________\n",
            "average_pooling2d_5 (AveragePoo (None, None, None, 7 0           mixed5[0][0]                     \n",
            "__________________________________________________________________________________________________\n",
            "conv2d_50 (Conv2D)              (None, None, None, 1 147456      mixed5[0][0]                     \n",
            "__________________________________________________________________________________________________\n",
            "conv2d_53 (Conv2D)              (None, None, None, 1 215040      activation_52[0][0]              \n",
            "__________________________________________________________________________________________________\n",
            "conv2d_58 (Conv2D)              (None, None, None, 1 215040      activation_57[0][0]              \n",
            "__________________________________________________________________________________________________\n",
            "conv2d_59 (Conv2D)              (None, None, None, 1 147456      average_pooling2d_5[0][0]        \n",
            "__________________________________________________________________________________________________\n",
            "batch_normalization_50 (BatchNo (None, None, None, 1 576         conv2d_50[0][0]                  \n",
            "__________________________________________________________________________________________________\n",
            "batch_normalization_53 (BatchNo (None, None, None, 1 576         conv2d_53[0][0]                  \n",
            "__________________________________________________________________________________________________\n",
            "batch_normalization_58 (BatchNo (None, None, None, 1 576         conv2d_58[0][0]                  \n",
            "__________________________________________________________________________________________________\n",
            "batch_normalization_59 (BatchNo (None, None, None, 1 576         conv2d_59[0][0]                  \n",
            "__________________________________________________________________________________________________\n",
            "activation_50 (Activation)      (None, None, None, 1 0           batch_normalization_50[0][0]     \n",
            "__________________________________________________________________________________________________\n",
            "activation_53 (Activation)      (None, None, None, 1 0           batch_normalization_53[0][0]     \n",
            "__________________________________________________________________________________________________\n",
            "activation_58 (Activation)      (None, None, None, 1 0           batch_normalization_58[0][0]     \n",
            "__________________________________________________________________________________________________\n",
            "activation_59 (Activation)      (None, None, None, 1 0           batch_normalization_59[0][0]     \n",
            "__________________________________________________________________________________________________\n",
            "mixed6 (Concatenate)            (None, None, None, 7 0           activation_50[0][0]              \n",
            "                                                                 activation_53[0][0]              \n",
            "                                                                 activation_58[0][0]              \n",
            "                                                                 activation_59[0][0]              \n",
            "__________________________________________________________________________________________________\n",
            "conv2d_64 (Conv2D)              (None, None, None, 1 147456      mixed6[0][0]                     \n",
            "__________________________________________________________________________________________________\n",
            "batch_normalization_64 (BatchNo (None, None, None, 1 576         conv2d_64[0][0]                  \n",
            "__________________________________________________________________________________________________\n",
            "activation_64 (Activation)      (None, None, None, 1 0           batch_normalization_64[0][0]     \n",
            "__________________________________________________________________________________________________\n",
            "conv2d_65 (Conv2D)              (None, None, None, 1 258048      activation_64[0][0]              \n",
            "__________________________________________________________________________________________________\n",
            "batch_normalization_65 (BatchNo (None, None, None, 1 576         conv2d_65[0][0]                  \n",
            "__________________________________________________________________________________________________\n",
            "activation_65 (Activation)      (None, None, None, 1 0           batch_normalization_65[0][0]     \n",
            "__________________________________________________________________________________________________\n",
            "conv2d_61 (Conv2D)              (None, None, None, 1 147456      mixed6[0][0]                     \n",
            "__________________________________________________________________________________________________\n",
            "conv2d_66 (Conv2D)              (None, None, None, 1 258048      activation_65[0][0]              \n",
            "__________________________________________________________________________________________________\n",
            "batch_normalization_61 (BatchNo (None, None, None, 1 576         conv2d_61[0][0]                  \n",
            "__________________________________________________________________________________________________\n",
            "batch_normalization_66 (BatchNo (None, None, None, 1 576         conv2d_66[0][0]                  \n",
            "__________________________________________________________________________________________________\n",
            "activation_61 (Activation)      (None, None, None, 1 0           batch_normalization_61[0][0]     \n",
            "__________________________________________________________________________________________________\n",
            "activation_66 (Activation)      (None, None, None, 1 0           batch_normalization_66[0][0]     \n",
            "__________________________________________________________________________________________________\n",
            "conv2d_62 (Conv2D)              (None, None, None, 1 258048      activation_61[0][0]              \n",
            "__________________________________________________________________________________________________\n",
            "conv2d_67 (Conv2D)              (None, None, None, 1 258048      activation_66[0][0]              \n",
            "__________________________________________________________________________________________________\n",
            "batch_normalization_62 (BatchNo (None, None, None, 1 576         conv2d_62[0][0]                  \n",
            "__________________________________________________________________________________________________\n",
            "batch_normalization_67 (BatchNo (None, None, None, 1 576         conv2d_67[0][0]                  \n",
            "__________________________________________________________________________________________________\n",
            "activation_62 (Activation)      (None, None, None, 1 0           batch_normalization_62[0][0]     \n",
            "__________________________________________________________________________________________________\n",
            "activation_67 (Activation)      (None, None, None, 1 0           batch_normalization_67[0][0]     \n",
            "__________________________________________________________________________________________________\n",
            "average_pooling2d_6 (AveragePoo (None, None, None, 7 0           mixed6[0][0]                     \n",
            "__________________________________________________________________________________________________\n",
            "conv2d_60 (Conv2D)              (None, None, None, 1 147456      mixed6[0][0]                     \n",
            "__________________________________________________________________________________________________\n",
            "conv2d_63 (Conv2D)              (None, None, None, 1 258048      activation_62[0][0]              \n",
            "__________________________________________________________________________________________________\n",
            "conv2d_68 (Conv2D)              (None, None, None, 1 258048      activation_67[0][0]              \n",
            "__________________________________________________________________________________________________\n",
            "conv2d_69 (Conv2D)              (None, None, None, 1 147456      average_pooling2d_6[0][0]        \n",
            "__________________________________________________________________________________________________\n",
            "batch_normalization_60 (BatchNo (None, None, None, 1 576         conv2d_60[0][0]                  \n",
            "__________________________________________________________________________________________________\n",
            "batch_normalization_63 (BatchNo (None, None, None, 1 576         conv2d_63[0][0]                  \n",
            "__________________________________________________________________________________________________\n",
            "batch_normalization_68 (BatchNo (None, None, None, 1 576         conv2d_68[0][0]                  \n",
            "__________________________________________________________________________________________________\n",
            "batch_normalization_69 (BatchNo (None, None, None, 1 576         conv2d_69[0][0]                  \n",
            "__________________________________________________________________________________________________\n",
            "activation_60 (Activation)      (None, None, None, 1 0           batch_normalization_60[0][0]     \n",
            "__________________________________________________________________________________________________\n",
            "activation_63 (Activation)      (None, None, None, 1 0           batch_normalization_63[0][0]     \n",
            "__________________________________________________________________________________________________\n",
            "activation_68 (Activation)      (None, None, None, 1 0           batch_normalization_68[0][0]     \n",
            "__________________________________________________________________________________________________\n",
            "activation_69 (Activation)      (None, None, None, 1 0           batch_normalization_69[0][0]     \n",
            "__________________________________________________________________________________________________\n",
            "mixed7 (Concatenate)            (None, None, None, 7 0           activation_60[0][0]              \n",
            "                                                                 activation_63[0][0]              \n",
            "                                                                 activation_68[0][0]              \n",
            "                                                                 activation_69[0][0]              \n",
            "__________________________________________________________________________________________________\n",
            "conv2d_72 (Conv2D)              (None, None, None, 1 147456      mixed7[0][0]                     \n",
            "__________________________________________________________________________________________________\n",
            "batch_normalization_72 (BatchNo (None, None, None, 1 576         conv2d_72[0][0]                  \n",
            "__________________________________________________________________________________________________\n",
            "activation_72 (Activation)      (None, None, None, 1 0           batch_normalization_72[0][0]     \n",
            "__________________________________________________________________________________________________\n",
            "conv2d_73 (Conv2D)              (None, None, None, 1 258048      activation_72[0][0]              \n",
            "__________________________________________________________________________________________________\n",
            "batch_normalization_73 (BatchNo (None, None, None, 1 576         conv2d_73[0][0]                  \n",
            "__________________________________________________________________________________________________\n",
            "activation_73 (Activation)      (None, None, None, 1 0           batch_normalization_73[0][0]     \n",
            "__________________________________________________________________________________________________\n",
            "conv2d_70 (Conv2D)              (None, None, None, 1 147456      mixed7[0][0]                     \n",
            "__________________________________________________________________________________________________\n",
            "conv2d_74 (Conv2D)              (None, None, None, 1 258048      activation_73[0][0]              \n",
            "__________________________________________________________________________________________________\n",
            "batch_normalization_70 (BatchNo (None, None, None, 1 576         conv2d_70[0][0]                  \n",
            "__________________________________________________________________________________________________\n",
            "batch_normalization_74 (BatchNo (None, None, None, 1 576         conv2d_74[0][0]                  \n",
            "__________________________________________________________________________________________________\n",
            "activation_70 (Activation)      (None, None, None, 1 0           batch_normalization_70[0][0]     \n",
            "__________________________________________________________________________________________________\n",
            "activation_74 (Activation)      (None, None, None, 1 0           batch_normalization_74[0][0]     \n",
            "__________________________________________________________________________________________________\n",
            "conv2d_71 (Conv2D)              (None, None, None, 3 552960      activation_70[0][0]              \n",
            "__________________________________________________________________________________________________\n",
            "conv2d_75 (Conv2D)              (None, None, None, 1 331776      activation_74[0][0]              \n",
            "__________________________________________________________________________________________________\n",
            "batch_normalization_71 (BatchNo (None, None, None, 3 960         conv2d_71[0][0]                  \n",
            "__________________________________________________________________________________________________\n",
            "batch_normalization_75 (BatchNo (None, None, None, 1 576         conv2d_75[0][0]                  \n",
            "__________________________________________________________________________________________________\n",
            "activation_71 (Activation)      (None, None, None, 3 0           batch_normalization_71[0][0]     \n",
            "__________________________________________________________________________________________________\n",
            "activation_75 (Activation)      (None, None, None, 1 0           batch_normalization_75[0][0]     \n",
            "__________________________________________________________________________________________________\n",
            "max_pooling2d_3 (MaxPooling2D)  (None, None, None, 7 0           mixed7[0][0]                     \n",
            "__________________________________________________________________________________________________\n",
            "mixed8 (Concatenate)            (None, None, None, 1 0           activation_71[0][0]              \n",
            "                                                                 activation_75[0][0]              \n",
            "                                                                 max_pooling2d_3[0][0]            \n",
            "__________________________________________________________________________________________________\n",
            "conv2d_80 (Conv2D)              (None, None, None, 4 573440      mixed8[0][0]                     \n",
            "__________________________________________________________________________________________________\n",
            "batch_normalization_80 (BatchNo (None, None, None, 4 1344        conv2d_80[0][0]                  \n",
            "__________________________________________________________________________________________________\n",
            "activation_80 (Activation)      (None, None, None, 4 0           batch_normalization_80[0][0]     \n",
            "__________________________________________________________________________________________________\n",
            "conv2d_77 (Conv2D)              (None, None, None, 3 491520      mixed8[0][0]                     \n",
            "__________________________________________________________________________________________________\n",
            "conv2d_81 (Conv2D)              (None, None, None, 3 1548288     activation_80[0][0]              \n",
            "__________________________________________________________________________________________________\n",
            "batch_normalization_77 (BatchNo (None, None, None, 3 1152        conv2d_77[0][0]                  \n",
            "__________________________________________________________________________________________________\n",
            "batch_normalization_81 (BatchNo (None, None, None, 3 1152        conv2d_81[0][0]                  \n",
            "__________________________________________________________________________________________________\n",
            "activation_77 (Activation)      (None, None, None, 3 0           batch_normalization_77[0][0]     \n",
            "__________________________________________________________________________________________________\n",
            "activation_81 (Activation)      (None, None, None, 3 0           batch_normalization_81[0][0]     \n",
            "__________________________________________________________________________________________________\n",
            "conv2d_78 (Conv2D)              (None, None, None, 3 442368      activation_77[0][0]              \n",
            "__________________________________________________________________________________________________\n",
            "conv2d_79 (Conv2D)              (None, None, None, 3 442368      activation_77[0][0]              \n",
            "__________________________________________________________________________________________________\n",
            "conv2d_82 (Conv2D)              (None, None, None, 3 442368      activation_81[0][0]              \n",
            "__________________________________________________________________________________________________\n",
            "conv2d_83 (Conv2D)              (None, None, None, 3 442368      activation_81[0][0]              \n",
            "__________________________________________________________________________________________________\n",
            "average_pooling2d_7 (AveragePoo (None, None, None, 1 0           mixed8[0][0]                     \n",
            "__________________________________________________________________________________________________\n",
            "conv2d_76 (Conv2D)              (None, None, None, 3 409600      mixed8[0][0]                     \n",
            "__________________________________________________________________________________________________\n",
            "batch_normalization_78 (BatchNo (None, None, None, 3 1152        conv2d_78[0][0]                  \n",
            "__________________________________________________________________________________________________\n",
            "batch_normalization_79 (BatchNo (None, None, None, 3 1152        conv2d_79[0][0]                  \n",
            "__________________________________________________________________________________________________\n",
            "batch_normalization_82 (BatchNo (None, None, None, 3 1152        conv2d_82[0][0]                  \n",
            "__________________________________________________________________________________________________\n",
            "batch_normalization_83 (BatchNo (None, None, None, 3 1152        conv2d_83[0][0]                  \n",
            "__________________________________________________________________________________________________\n",
            "conv2d_84 (Conv2D)              (None, None, None, 1 245760      average_pooling2d_7[0][0]        \n",
            "__________________________________________________________________________________________________\n",
            "batch_normalization_76 (BatchNo (None, None, None, 3 960         conv2d_76[0][0]                  \n",
            "__________________________________________________________________________________________________\n",
            "activation_78 (Activation)      (None, None, None, 3 0           batch_normalization_78[0][0]     \n",
            "__________________________________________________________________________________________________\n",
            "activation_79 (Activation)      (None, None, None, 3 0           batch_normalization_79[0][0]     \n",
            "__________________________________________________________________________________________________\n",
            "activation_82 (Activation)      (None, None, None, 3 0           batch_normalization_82[0][0]     \n",
            "__________________________________________________________________________________________________\n",
            "activation_83 (Activation)      (None, None, None, 3 0           batch_normalization_83[0][0]     \n",
            "__________________________________________________________________________________________________\n",
            "batch_normalization_84 (BatchNo (None, None, None, 1 576         conv2d_84[0][0]                  \n",
            "__________________________________________________________________________________________________\n",
            "activation_76 (Activation)      (None, None, None, 3 0           batch_normalization_76[0][0]     \n",
            "__________________________________________________________________________________________________\n",
            "mixed9_0 (Concatenate)          (None, None, None, 7 0           activation_78[0][0]              \n",
            "                                                                 activation_79[0][0]              \n",
            "__________________________________________________________________________________________________\n",
            "concatenate (Concatenate)       (None, None, None, 7 0           activation_82[0][0]              \n",
            "                                                                 activation_83[0][0]              \n",
            "__________________________________________________________________________________________________\n",
            "activation_84 (Activation)      (None, None, None, 1 0           batch_normalization_84[0][0]     \n",
            "__________________________________________________________________________________________________\n",
            "mixed9 (Concatenate)            (None, None, None, 2 0           activation_76[0][0]              \n",
            "                                                                 mixed9_0[0][0]                   \n",
            "                                                                 concatenate[0][0]                \n",
            "                                                                 activation_84[0][0]              \n",
            "__________________________________________________________________________________________________\n",
            "conv2d_89 (Conv2D)              (None, None, None, 4 917504      mixed9[0][0]                     \n",
            "__________________________________________________________________________________________________\n",
            "batch_normalization_89 (BatchNo (None, None, None, 4 1344        conv2d_89[0][0]                  \n",
            "__________________________________________________________________________________________________\n",
            "activation_89 (Activation)      (None, None, None, 4 0           batch_normalization_89[0][0]     \n",
            "__________________________________________________________________________________________________\n",
            "conv2d_86 (Conv2D)              (None, None, None, 3 786432      mixed9[0][0]                     \n",
            "__________________________________________________________________________________________________\n",
            "conv2d_90 (Conv2D)              (None, None, None, 3 1548288     activation_89[0][0]              \n",
            "__________________________________________________________________________________________________\n",
            "batch_normalization_86 (BatchNo (None, None, None, 3 1152        conv2d_86[0][0]                  \n",
            "__________________________________________________________________________________________________\n",
            "batch_normalization_90 (BatchNo (None, None, None, 3 1152        conv2d_90[0][0]                  \n",
            "__________________________________________________________________________________________________\n",
            "activation_86 (Activation)      (None, None, None, 3 0           batch_normalization_86[0][0]     \n",
            "__________________________________________________________________________________________________\n",
            "activation_90 (Activation)      (None, None, None, 3 0           batch_normalization_90[0][0]     \n",
            "__________________________________________________________________________________________________\n",
            "conv2d_87 (Conv2D)              (None, None, None, 3 442368      activation_86[0][0]              \n",
            "__________________________________________________________________________________________________\n",
            "conv2d_88 (Conv2D)              (None, None, None, 3 442368      activation_86[0][0]              \n",
            "__________________________________________________________________________________________________\n",
            "conv2d_91 (Conv2D)              (None, None, None, 3 442368      activation_90[0][0]              \n",
            "__________________________________________________________________________________________________\n",
            "conv2d_92 (Conv2D)              (None, None, None, 3 442368      activation_90[0][0]              \n",
            "__________________________________________________________________________________________________\n",
            "average_pooling2d_8 (AveragePoo (None, None, None, 2 0           mixed9[0][0]                     \n",
            "__________________________________________________________________________________________________\n",
            "conv2d_85 (Conv2D)              (None, None, None, 3 655360      mixed9[0][0]                     \n",
            "__________________________________________________________________________________________________\n",
            "batch_normalization_87 (BatchNo (None, None, None, 3 1152        conv2d_87[0][0]                  \n",
            "__________________________________________________________________________________________________\n",
            "batch_normalization_88 (BatchNo (None, None, None, 3 1152        conv2d_88[0][0]                  \n",
            "__________________________________________________________________________________________________\n",
            "batch_normalization_91 (BatchNo (None, None, None, 3 1152        conv2d_91[0][0]                  \n",
            "__________________________________________________________________________________________________\n",
            "batch_normalization_92 (BatchNo (None, None, None, 3 1152        conv2d_92[0][0]                  \n",
            "__________________________________________________________________________________________________\n",
            "conv2d_93 (Conv2D)              (None, None, None, 1 393216      average_pooling2d_8[0][0]        \n",
            "__________________________________________________________________________________________________\n",
            "batch_normalization_85 (BatchNo (None, None, None, 3 960         conv2d_85[0][0]                  \n",
            "__________________________________________________________________________________________________\n",
            "activation_87 (Activation)      (None, None, None, 3 0           batch_normalization_87[0][0]     \n",
            "__________________________________________________________________________________________________\n",
            "activation_88 (Activation)      (None, None, None, 3 0           batch_normalization_88[0][0]     \n",
            "__________________________________________________________________________________________________\n",
            "activation_91 (Activation)      (None, None, None, 3 0           batch_normalization_91[0][0]     \n",
            "__________________________________________________________________________________________________\n",
            "activation_92 (Activation)      (None, None, None, 3 0           batch_normalization_92[0][0]     \n",
            "__________________________________________________________________________________________________\n",
            "batch_normalization_93 (BatchNo (None, None, None, 1 576         conv2d_93[0][0]                  \n",
            "__________________________________________________________________________________________________\n",
            "activation_85 (Activation)      (None, None, None, 3 0           batch_normalization_85[0][0]     \n",
            "__________________________________________________________________________________________________\n",
            "mixed9_1 (Concatenate)          (None, None, None, 7 0           activation_87[0][0]              \n",
            "                                                                 activation_88[0][0]              \n",
            "__________________________________________________________________________________________________\n",
            "concatenate_1 (Concatenate)     (None, None, None, 7 0           activation_91[0][0]              \n",
            "                                                                 activation_92[0][0]              \n",
            "__________________________________________________________________________________________________\n",
            "activation_93 (Activation)      (None, None, None, 1 0           batch_normalization_93[0][0]     \n",
            "__________________________________________________________________________________________________\n",
            "mixed10 (Concatenate)           (None, None, None, 2 0           activation_85[0][0]              \n",
            "                                                                 mixed9_1[0][0]                   \n",
            "                                                                 concatenate_1[0][0]              \n",
            "                                                                 activation_93[0][0]              \n",
            "==================================================================================================\n",
            "Total params: 21,802,784\n",
            "Trainable params: 21,768,352\n",
            "Non-trainable params: 34,432\n",
            "__________________________________________________________________________________________________\n"
          ],
          "name": "stdout"
        }
      ]
    },
    {
      "metadata": {
        "id": "NSdicPFIvmzG",
        "colab_type": "text"
      },
      "cell_type": "markdown",
      "source": [
        "## Create a simple head for the model that we can train"
      ]
    },
    {
      "metadata": {
        "id": "Ir9ukuA9vogi",
        "colab_type": "code",
        "colab": {}
      },
      "cell_type": "code",
      "source": [
        "\n",
        "# add a global spatial average pooling layer\n",
        "x = base_model.output\n",
        "x = GlobalAveragePooling2D()(x)\n",
        "\n",
        "# let's add a fully-connected layer\n",
        "x = Dense(1024, activation='relu')(x)\n",
        "\n",
        "\n",
        "# 5 Classes for flowers\n",
        "predictions = Dense(num_classes, activation='softmax')(x)\n"
      ],
      "execution_count": 0,
      "outputs": []
    },
    {
      "metadata": {
        "id": "l7k2OZyHvqAa",
        "colab_type": "code",
        "colab": {}
      },
      "cell_type": "code",
      "source": [
        "# Creating the model that we will train\n",
        "model = Model(inputs=base_model.input, outputs=predictions)"
      ],
      "execution_count": 0,
      "outputs": []
    },
    {
      "metadata": {
        "id": "6nhWA6vfvrDp",
        "colab_type": "code",
        "outputId": "56a66353-530b-4ae8-b161-4fa48c3a61bb",
        "colab": {
          "base_uri": "https://localhost:8080/",
          "height": 1615
        }
      },
      "cell_type": "code",
      "source": [
        "# first: train only the top layers (which were randomly initialized)\n",
        "# i.e. freeze all convolutional VGG16 layers\n",
        "for layer in base_model.layers:\n",
        "    if 'batch' in layer.name:\n",
        "      print(layer.name)\n",
        "      layer.trainable = True\n",
        "    else:\n",
        "      layer.trainable = False \n"
      ],
      "execution_count": 26,
      "outputs": [
        {
          "output_type": "stream",
          "text": [
            "batch_normalization\n",
            "batch_normalization_1\n",
            "batch_normalization_2\n",
            "batch_normalization_3\n",
            "batch_normalization_4\n",
            "batch_normalization_8\n",
            "batch_normalization_6\n",
            "batch_normalization_9\n",
            "batch_normalization_5\n",
            "batch_normalization_7\n",
            "batch_normalization_10\n",
            "batch_normalization_11\n",
            "batch_normalization_15\n",
            "batch_normalization_13\n",
            "batch_normalization_16\n",
            "batch_normalization_12\n",
            "batch_normalization_14\n",
            "batch_normalization_17\n",
            "batch_normalization_18\n",
            "batch_normalization_22\n",
            "batch_normalization_20\n",
            "batch_normalization_23\n",
            "batch_normalization_19\n",
            "batch_normalization_21\n",
            "batch_normalization_24\n",
            "batch_normalization_25\n",
            "batch_normalization_27\n",
            "batch_normalization_28\n",
            "batch_normalization_26\n",
            "batch_normalization_29\n",
            "batch_normalization_34\n",
            "batch_normalization_35\n",
            "batch_normalization_31\n",
            "batch_normalization_36\n",
            "batch_normalization_32\n",
            "batch_normalization_37\n",
            "batch_normalization_30\n",
            "batch_normalization_33\n",
            "batch_normalization_38\n",
            "batch_normalization_39\n",
            "batch_normalization_44\n",
            "batch_normalization_45\n",
            "batch_normalization_41\n",
            "batch_normalization_46\n",
            "batch_normalization_42\n",
            "batch_normalization_47\n",
            "batch_normalization_40\n",
            "batch_normalization_43\n",
            "batch_normalization_48\n",
            "batch_normalization_49\n",
            "batch_normalization_54\n",
            "batch_normalization_55\n",
            "batch_normalization_51\n",
            "batch_normalization_56\n",
            "batch_normalization_52\n",
            "batch_normalization_57\n",
            "batch_normalization_50\n",
            "batch_normalization_53\n",
            "batch_normalization_58\n",
            "batch_normalization_59\n",
            "batch_normalization_64\n",
            "batch_normalization_65\n",
            "batch_normalization_61\n",
            "batch_normalization_66\n",
            "batch_normalization_62\n",
            "batch_normalization_67\n",
            "batch_normalization_60\n",
            "batch_normalization_63\n",
            "batch_normalization_68\n",
            "batch_normalization_69\n",
            "batch_normalization_72\n",
            "batch_normalization_73\n",
            "batch_normalization_70\n",
            "batch_normalization_74\n",
            "batch_normalization_71\n",
            "batch_normalization_75\n",
            "batch_normalization_80\n",
            "batch_normalization_77\n",
            "batch_normalization_81\n",
            "batch_normalization_78\n",
            "batch_normalization_79\n",
            "batch_normalization_82\n",
            "batch_normalization_83\n",
            "batch_normalization_76\n",
            "batch_normalization_84\n",
            "batch_normalization_89\n",
            "batch_normalization_86\n",
            "batch_normalization_90\n",
            "batch_normalization_87\n",
            "batch_normalization_88\n",
            "batch_normalization_91\n",
            "batch_normalization_92\n",
            "batch_normalization_85\n",
            "batch_normalization_93\n"
          ],
          "name": "stdout"
        }
      ]
    },
    {
      "metadata": {
        "id": "qA16SJ_1vsVW",
        "colab_type": "code",
        "outputId": "de6d7176-750c-49b4-b638-3d7a630cdb81",
        "colab": {
          "base_uri": "https://localhost:8080/",
          "height": 10693
        }
      },
      "cell_type": "code",
      "source": [
        "for layer in model.layers:\n",
        "    print(layer.name)\n",
        "    print(layer.trainable)"
      ],
      "execution_count": 27,
      "outputs": [
        {
          "output_type": "stream",
          "text": [
            "input_1\n",
            "False\n",
            "conv2d\n",
            "False\n",
            "batch_normalization\n",
            "True\n",
            "activation\n",
            "False\n",
            "conv2d_1\n",
            "False\n",
            "batch_normalization_1\n",
            "True\n",
            "activation_1\n",
            "False\n",
            "conv2d_2\n",
            "False\n",
            "batch_normalization_2\n",
            "True\n",
            "activation_2\n",
            "False\n",
            "max_pooling2d\n",
            "False\n",
            "conv2d_3\n",
            "False\n",
            "batch_normalization_3\n",
            "True\n",
            "activation_3\n",
            "False\n",
            "conv2d_4\n",
            "False\n",
            "batch_normalization_4\n",
            "True\n",
            "activation_4\n",
            "False\n",
            "max_pooling2d_1\n",
            "False\n",
            "conv2d_8\n",
            "False\n",
            "batch_normalization_8\n",
            "True\n",
            "activation_8\n",
            "False\n",
            "conv2d_6\n",
            "False\n",
            "conv2d_9\n",
            "False\n",
            "batch_normalization_6\n",
            "True\n",
            "batch_normalization_9\n",
            "True\n",
            "activation_6\n",
            "False\n",
            "activation_9\n",
            "False\n",
            "average_pooling2d\n",
            "False\n",
            "conv2d_5\n",
            "False\n",
            "conv2d_7\n",
            "False\n",
            "conv2d_10\n",
            "False\n",
            "conv2d_11\n",
            "False\n",
            "batch_normalization_5\n",
            "True\n",
            "batch_normalization_7\n",
            "True\n",
            "batch_normalization_10\n",
            "True\n",
            "batch_normalization_11\n",
            "True\n",
            "activation_5\n",
            "False\n",
            "activation_7\n",
            "False\n",
            "activation_10\n",
            "False\n",
            "activation_11\n",
            "False\n",
            "mixed0\n",
            "False\n",
            "conv2d_15\n",
            "False\n",
            "batch_normalization_15\n",
            "True\n",
            "activation_15\n",
            "False\n",
            "conv2d_13\n",
            "False\n",
            "conv2d_16\n",
            "False\n",
            "batch_normalization_13\n",
            "True\n",
            "batch_normalization_16\n",
            "True\n",
            "activation_13\n",
            "False\n",
            "activation_16\n",
            "False\n",
            "average_pooling2d_1\n",
            "False\n",
            "conv2d_12\n",
            "False\n",
            "conv2d_14\n",
            "False\n",
            "conv2d_17\n",
            "False\n",
            "conv2d_18\n",
            "False\n",
            "batch_normalization_12\n",
            "True\n",
            "batch_normalization_14\n",
            "True\n",
            "batch_normalization_17\n",
            "True\n",
            "batch_normalization_18\n",
            "True\n",
            "activation_12\n",
            "False\n",
            "activation_14\n",
            "False\n",
            "activation_17\n",
            "False\n",
            "activation_18\n",
            "False\n",
            "mixed1\n",
            "False\n",
            "conv2d_22\n",
            "False\n",
            "batch_normalization_22\n",
            "True\n",
            "activation_22\n",
            "False\n",
            "conv2d_20\n",
            "False\n",
            "conv2d_23\n",
            "False\n",
            "batch_normalization_20\n",
            "True\n",
            "batch_normalization_23\n",
            "True\n",
            "activation_20\n",
            "False\n",
            "activation_23\n",
            "False\n",
            "average_pooling2d_2\n",
            "False\n",
            "conv2d_19\n",
            "False\n",
            "conv2d_21\n",
            "False\n",
            "conv2d_24\n",
            "False\n",
            "conv2d_25\n",
            "False\n",
            "batch_normalization_19\n",
            "True\n",
            "batch_normalization_21\n",
            "True\n",
            "batch_normalization_24\n",
            "True\n",
            "batch_normalization_25\n",
            "True\n",
            "activation_19\n",
            "False\n",
            "activation_21\n",
            "False\n",
            "activation_24\n",
            "False\n",
            "activation_25\n",
            "False\n",
            "mixed2\n",
            "False\n",
            "conv2d_27\n",
            "False\n",
            "batch_normalization_27\n",
            "True\n",
            "activation_27\n",
            "False\n",
            "conv2d_28\n",
            "False\n",
            "batch_normalization_28\n",
            "True\n",
            "activation_28\n",
            "False\n",
            "conv2d_26\n",
            "False\n",
            "conv2d_29\n",
            "False\n",
            "batch_normalization_26\n",
            "True\n",
            "batch_normalization_29\n",
            "True\n",
            "activation_26\n",
            "False\n",
            "activation_29\n",
            "False\n",
            "max_pooling2d_2\n",
            "False\n",
            "mixed3\n",
            "False\n",
            "conv2d_34\n",
            "False\n",
            "batch_normalization_34\n",
            "True\n",
            "activation_34\n",
            "False\n",
            "conv2d_35\n",
            "False\n",
            "batch_normalization_35\n",
            "True\n",
            "activation_35\n",
            "False\n",
            "conv2d_31\n",
            "False\n",
            "conv2d_36\n",
            "False\n",
            "batch_normalization_31\n",
            "True\n",
            "batch_normalization_36\n",
            "True\n",
            "activation_31\n",
            "False\n",
            "activation_36\n",
            "False\n",
            "conv2d_32\n",
            "False\n",
            "conv2d_37\n",
            "False\n",
            "batch_normalization_32\n",
            "True\n",
            "batch_normalization_37\n",
            "True\n",
            "activation_32\n",
            "False\n",
            "activation_37\n",
            "False\n",
            "average_pooling2d_3\n",
            "False\n",
            "conv2d_30\n",
            "False\n",
            "conv2d_33\n",
            "False\n",
            "conv2d_38\n",
            "False\n",
            "conv2d_39\n",
            "False\n",
            "batch_normalization_30\n",
            "True\n",
            "batch_normalization_33\n",
            "True\n",
            "batch_normalization_38\n",
            "True\n",
            "batch_normalization_39\n",
            "True\n",
            "activation_30\n",
            "False\n",
            "activation_33\n",
            "False\n",
            "activation_38\n",
            "False\n",
            "activation_39\n",
            "False\n",
            "mixed4\n",
            "False\n",
            "conv2d_44\n",
            "False\n",
            "batch_normalization_44\n",
            "True\n",
            "activation_44\n",
            "False\n",
            "conv2d_45\n",
            "False\n",
            "batch_normalization_45\n",
            "True\n",
            "activation_45\n",
            "False\n",
            "conv2d_41\n",
            "False\n",
            "conv2d_46\n",
            "False\n",
            "batch_normalization_41\n",
            "True\n",
            "batch_normalization_46\n",
            "True\n",
            "activation_41\n",
            "False\n",
            "activation_46\n",
            "False\n",
            "conv2d_42\n",
            "False\n",
            "conv2d_47\n",
            "False\n",
            "batch_normalization_42\n",
            "True\n",
            "batch_normalization_47\n",
            "True\n",
            "activation_42\n",
            "False\n",
            "activation_47\n",
            "False\n",
            "average_pooling2d_4\n",
            "False\n",
            "conv2d_40\n",
            "False\n",
            "conv2d_43\n",
            "False\n",
            "conv2d_48\n",
            "False\n",
            "conv2d_49\n",
            "False\n",
            "batch_normalization_40\n",
            "True\n",
            "batch_normalization_43\n",
            "True\n",
            "batch_normalization_48\n",
            "True\n",
            "batch_normalization_49\n",
            "True\n",
            "activation_40\n",
            "False\n",
            "activation_43\n",
            "False\n",
            "activation_48\n",
            "False\n",
            "activation_49\n",
            "False\n",
            "mixed5\n",
            "False\n",
            "conv2d_54\n",
            "False\n",
            "batch_normalization_54\n",
            "True\n",
            "activation_54\n",
            "False\n",
            "conv2d_55\n",
            "False\n",
            "batch_normalization_55\n",
            "True\n",
            "activation_55\n",
            "False\n",
            "conv2d_51\n",
            "False\n",
            "conv2d_56\n",
            "False\n",
            "batch_normalization_51\n",
            "True\n",
            "batch_normalization_56\n",
            "True\n",
            "activation_51\n",
            "False\n",
            "activation_56\n",
            "False\n",
            "conv2d_52\n",
            "False\n",
            "conv2d_57\n",
            "False\n",
            "batch_normalization_52\n",
            "True\n",
            "batch_normalization_57\n",
            "True\n",
            "activation_52\n",
            "False\n",
            "activation_57\n",
            "False\n",
            "average_pooling2d_5\n",
            "False\n",
            "conv2d_50\n",
            "False\n",
            "conv2d_53\n",
            "False\n",
            "conv2d_58\n",
            "False\n",
            "conv2d_59\n",
            "False\n",
            "batch_normalization_50\n",
            "True\n",
            "batch_normalization_53\n",
            "True\n",
            "batch_normalization_58\n",
            "True\n",
            "batch_normalization_59\n",
            "True\n",
            "activation_50\n",
            "False\n",
            "activation_53\n",
            "False\n",
            "activation_58\n",
            "False\n",
            "activation_59\n",
            "False\n",
            "mixed6\n",
            "False\n",
            "conv2d_64\n",
            "False\n",
            "batch_normalization_64\n",
            "True\n",
            "activation_64\n",
            "False\n",
            "conv2d_65\n",
            "False\n",
            "batch_normalization_65\n",
            "True\n",
            "activation_65\n",
            "False\n",
            "conv2d_61\n",
            "False\n",
            "conv2d_66\n",
            "False\n",
            "batch_normalization_61\n",
            "True\n",
            "batch_normalization_66\n",
            "True\n",
            "activation_61\n",
            "False\n",
            "activation_66\n",
            "False\n",
            "conv2d_62\n",
            "False\n",
            "conv2d_67\n",
            "False\n",
            "batch_normalization_62\n",
            "True\n",
            "batch_normalization_67\n",
            "True\n",
            "activation_62\n",
            "False\n",
            "activation_67\n",
            "False\n",
            "average_pooling2d_6\n",
            "False\n",
            "conv2d_60\n",
            "False\n",
            "conv2d_63\n",
            "False\n",
            "conv2d_68\n",
            "False\n",
            "conv2d_69\n",
            "False\n",
            "batch_normalization_60\n",
            "True\n",
            "batch_normalization_63\n",
            "True\n",
            "batch_normalization_68\n",
            "True\n",
            "batch_normalization_69\n",
            "True\n",
            "activation_60\n",
            "False\n",
            "activation_63\n",
            "False\n",
            "activation_68\n",
            "False\n",
            "activation_69\n",
            "False\n",
            "mixed7\n",
            "False\n",
            "conv2d_72\n",
            "False\n",
            "batch_normalization_72\n",
            "True\n",
            "activation_72\n",
            "False\n",
            "conv2d_73\n",
            "False\n",
            "batch_normalization_73\n",
            "True\n",
            "activation_73\n",
            "False\n",
            "conv2d_70\n",
            "False\n",
            "conv2d_74\n",
            "False\n",
            "batch_normalization_70\n",
            "True\n",
            "batch_normalization_74\n",
            "True\n",
            "activation_70\n",
            "False\n",
            "activation_74\n",
            "False\n",
            "conv2d_71\n",
            "False\n",
            "conv2d_75\n",
            "False\n",
            "batch_normalization_71\n",
            "True\n",
            "batch_normalization_75\n",
            "True\n",
            "activation_71\n",
            "False\n",
            "activation_75\n",
            "False\n",
            "max_pooling2d_3\n",
            "False\n",
            "mixed8\n",
            "False\n",
            "conv2d_80\n",
            "False\n",
            "batch_normalization_80\n",
            "True\n",
            "activation_80\n",
            "False\n",
            "conv2d_77\n",
            "False\n",
            "conv2d_81\n",
            "False\n",
            "batch_normalization_77\n",
            "True\n",
            "batch_normalization_81\n",
            "True\n",
            "activation_77\n",
            "False\n",
            "activation_81\n",
            "False\n",
            "conv2d_78\n",
            "False\n",
            "conv2d_79\n",
            "False\n",
            "conv2d_82\n",
            "False\n",
            "conv2d_83\n",
            "False\n",
            "average_pooling2d_7\n",
            "False\n",
            "conv2d_76\n",
            "False\n",
            "batch_normalization_78\n",
            "True\n",
            "batch_normalization_79\n",
            "True\n",
            "batch_normalization_82\n",
            "True\n",
            "batch_normalization_83\n",
            "True\n",
            "conv2d_84\n",
            "False\n",
            "batch_normalization_76\n",
            "True\n",
            "activation_78\n",
            "False\n",
            "activation_79\n",
            "False\n",
            "activation_82\n",
            "False\n",
            "activation_83\n",
            "False\n",
            "batch_normalization_84\n",
            "True\n",
            "activation_76\n",
            "False\n",
            "mixed9_0\n",
            "False\n",
            "concatenate\n",
            "False\n",
            "activation_84\n",
            "False\n",
            "mixed9\n",
            "False\n",
            "conv2d_89\n",
            "False\n",
            "batch_normalization_89\n",
            "True\n",
            "activation_89\n",
            "False\n",
            "conv2d_86\n",
            "False\n",
            "conv2d_90\n",
            "False\n",
            "batch_normalization_86\n",
            "True\n",
            "batch_normalization_90\n",
            "True\n",
            "activation_86\n",
            "False\n",
            "activation_90\n",
            "False\n",
            "conv2d_87\n",
            "False\n",
            "conv2d_88\n",
            "False\n",
            "conv2d_91\n",
            "False\n",
            "conv2d_92\n",
            "False\n",
            "average_pooling2d_8\n",
            "False\n",
            "conv2d_85\n",
            "False\n",
            "batch_normalization_87\n",
            "True\n",
            "batch_normalization_88\n",
            "True\n",
            "batch_normalization_91\n",
            "True\n",
            "batch_normalization_92\n",
            "True\n",
            "conv2d_93\n",
            "False\n",
            "batch_normalization_85\n",
            "True\n",
            "activation_87\n",
            "False\n",
            "activation_88\n",
            "False\n",
            "activation_91\n",
            "False\n",
            "activation_92\n",
            "False\n",
            "batch_normalization_93\n",
            "True\n",
            "activation_85\n",
            "False\n",
            "mixed9_1\n",
            "False\n",
            "concatenate_1\n",
            "False\n",
            "activation_93\n",
            "False\n",
            "mixed10\n",
            "False\n",
            "global_average_pooling2d\n",
            "True\n",
            "dense\n",
            "True\n",
            "dense_1\n",
            "True\n"
          ],
          "name": "stdout"
        }
      ]
    },
    {
      "metadata": {
        "id": "zzrjHOjVv3xT",
        "colab_type": "text"
      },
      "cell_type": "markdown",
      "source": [
        "## Select an Optimizer "
      ]
    },
    {
      "metadata": {
        "id": "te7M0Y0Ov5B_",
        "colab_type": "code",
        "colab": {}
      },
      "cell_type": "code",
      "source": [
        "# creates the optimizer using a tensorFlow optimizer with lr setting the Learning Rate\n",
        "\n",
        "# tf.keras optimizer\n",
        "opt = optimizers.Adam(lr)\n",
        "\n",
        "# We could use a TensorFlow Optimizer but they can't save the weight as a whole\n",
        "# opt = tf.train.AdamOptimizer(lr)"
      ],
      "execution_count": 0,
      "outputs": []
    },
    {
      "metadata": {
        "id": "HsMyZ5_Hv7F5",
        "colab_type": "text"
      },
      "cell_type": "markdown",
      "source": [
        "## Compile the model"
      ]
    },
    {
      "metadata": {
        "id": "lVStHInBv8sF",
        "colab_type": "code",
        "colab": {}
      },
      "cell_type": "code",
      "source": [
        "# compile the model \n",
        "\n",
        "model.compile(optimizer= opt, loss='categorical_crossentropy',metrics=['accuracy'])"
      ],
      "execution_count": 0,
      "outputs": []
    },
    {
      "metadata": {
        "id": "5imyMnQQv-RK",
        "colab_type": "text"
      },
      "cell_type": "markdown",
      "source": [
        "## Call backs"
      ]
    },
    {
      "metadata": {
        "id": "Jfxwux4SwBir",
        "colab_type": "code",
        "colab": {}
      },
      "cell_type": "code",
      "source": [
        "!mkdir checkpoints\n",
        "\n",
        "\n",
        "checkpoint = ModelCheckpoint('./checkpoints/weights_{epoch:02d}_{val_acc:.2f}.hdf5', verbose=1, save_best_only=True, mode='auto')"
      ],
      "execution_count": 0,
      "outputs": []
    },
    {
      "metadata": {
        "id": "O7xuHy5HwDm0",
        "colab_type": "code",
        "colab": {}
      },
      "cell_type": "code",
      "source": [
        "train_steps = 50\n",
        "val_steps = 50\n",
        "epochs = 5"
      ],
      "execution_count": 0,
      "outputs": []
    },
    {
      "metadata": {
        "id": "sR-g2c0PwFfS",
        "colab_type": "text"
      },
      "cell_type": "markdown",
      "source": [
        "## Fit the model\n",
        "\n",
        "we pass in:\n",
        "- The training set\n",
        "- the steps for how many times we want to sample a batch to be one epoch\n",
        "- number of epochs\n",
        "- validation set\n",
        "- number of steps for validation"
      ]
    },
    {
      "metadata": {
        "id": "nBssvi1IwHhZ",
        "colab_type": "code",
        "outputId": "897dec40-39d0-4cf0-b007-71728f0781d7",
        "colab": {
          "base_uri": "https://localhost:8080/",
          "height": 357
        }
      },
      "cell_type": "code",
      "source": [
        "# # Train the model with validation \n",
        "history = model.fit( train_dataset, steps_per_epoch = train_steps,\n",
        "                   epochs = epochs,\n",
        "                   validation_data = valid_dataset,\n",
        "                   validation_steps = val_steps,\n",
        "                   callbacks=[checkpoint])"
      ],
      "execution_count": 32,
      "outputs": [
        {
          "output_type": "stream",
          "text": [
            "Epoch 1/5\n",
            "49/50 [============================>.] - ETA: 1s - loss: 0.8486 - acc: 0.7445\n",
            "Epoch 00001: val_loss improved from inf to 0.80504, saving model to ./checkpoints/weights_01_0.75.hdf5\n",
            "50/50 [==============================] - 124s 2s/step - loss: 0.8388 - acc: 0.7461 - val_loss: 0.8050 - val_acc: 0.7478\n",
            "Epoch 2/5\n",
            "49/50 [============================>.] - ETA: 0s - loss: 0.1335 - acc: 0.9574\n",
            "Epoch 00002: val_loss improved from 0.80504 to 0.10141, saving model to ./checkpoints/weights_02_0.97.hdf5\n",
            "50/50 [==============================] - 72s 1s/step - loss: 0.1346 - acc: 0.9565 - val_loss: 0.1014 - val_acc: 0.9652\n",
            "Epoch 3/5\n",
            "49/50 [============================>.] - ETA: 0s - loss: 0.0848 - acc: 0.9725\n",
            "Epoch 00003: val_loss improved from 0.10141 to 0.07759, saving model to ./checkpoints/weights_03_0.97.hdf5\n",
            "50/50 [==============================] - 72s 1s/step - loss: 0.0831 - acc: 0.9730 - val_loss: 0.0776 - val_acc: 0.9739\n",
            "Epoch 4/5\n",
            "49/50 [============================>.] - ETA: 0s - loss: 0.0298 - acc: 0.9911\n",
            "Epoch 00004: val_loss did not improve from 0.07759\n",
            "50/50 [==============================] - 71s 1s/step - loss: 0.0298 - acc: 0.9913 - val_loss: 0.1307 - val_acc: 0.9739\n",
            "Epoch 5/5\n",
            "49/50 [============================>.] - ETA: 0s - loss: 0.0239 - acc: 0.9938\n",
            "Epoch 00005: val_loss did not improve from 0.07759\n",
            "50/50 [==============================] - 71s 1s/step - loss: 0.0236 - acc: 0.9939 - val_loss: 0.1539 - val_acc: 0.9652\n"
          ],
          "name": "stdout"
        }
      ]
    },
    {
      "metadata": {
        "id": "iUuTu4psTxy9",
        "colab_type": "code",
        "outputId": "bc8fe479-00fa-44bc-b434-124b863651c4",
        "colab": {
          "base_uri": "https://localhost:8080/",
          "height": 571
        }
      },
      "cell_type": "code",
      "source": [
        "# summarize history for accuracy\n",
        "plt.plot(history.history['acc'])\n",
        "plt.plot(history.history['val_acc'])\n",
        "plt.title('model accuracy')\n",
        "plt.ylabel('accuracy')\n",
        "plt.xlabel('epoch')\n",
        "plt.legend(['train', 'test'], loc='upper left')\n",
        "plt.show()\n",
        "# summarize history for loss\n",
        "plt.plot(history.history['loss'])\n",
        "plt.plot(history.history['val_loss'])\n",
        "plt.title('model loss')\n",
        "plt.ylabel('loss')\n",
        "plt.xlabel('epoch')\n",
        "plt.legend(['train', 'test'], loc='upper left')\n",
        "plt.show()"
      ],
      "execution_count": 33,
      "outputs": [
        {
          "output_type": "display_data",
          "data": {
            "image/png": "[encoded data removed]",
            "text/plain": [
              "<matplotlib.figure.Figure at 0x7f461ba7c0b8>"
            ]
          },
          "metadata": {
            "tags": []
          }
        },
        {
          "output_type": "display_data",
          "data": {
            "image/png": "[encoded data removed]",
            "text/plain": [
              "<matplotlib.figure.Figure at 0x7f463c14e780>"
            ]
          },
          "metadata": {
            "tags": []
          }
        }
      ]
    },
    {
      "metadata": {
        "id": "LScy90EM_D5P",
        "colab_type": "code",
        "outputId": "d2163c93-eed4-453e-ca6f-ded1f50b62c2",
        "colab": {
          "base_uri": "https://localhost:8080/",
          "height": 357
        }
      },
      "cell_type": "code",
      "source": [
        "# # Train the model with validation \n",
        "history = model.fit( train_dataset, steps_per_epoch = train_steps,\n",
        "                   epochs = epochs,\n",
        "                   validation_data = valid_dataset,\n",
        "                   validation_steps = val_steps,\n",
        "                   callbacks=[checkpoint])"
      ],
      "execution_count": 34,
      "outputs": [
        {
          "output_type": "stream",
          "text": [
            "Epoch 1/5\n",
            "49/50 [============================>.] - ETA: 0s - loss: 0.0271 - acc: 0.9911\n",
            "Epoch 00001: val_loss did not improve from 0.07759\n",
            "50/50 [==============================] - 71s 1s/step - loss: 0.0267 - acc: 0.9913 - val_loss: 0.1108 - val_acc: 0.9652\n",
            "Epoch 2/5\n",
            "49/50 [============================>.] - ETA: 0s - loss: 0.0088 - acc: 1.0000\n",
            "Epoch 00002: val_loss did not improve from 0.07759\n",
            "50/50 [==============================] - 72s 1s/step - loss: 0.0088 - acc: 1.0000 - val_loss: 0.1097 - val_acc: 0.9826\n",
            "Epoch 3/5\n",
            "49/50 [============================>.] - ETA: 0s - loss: 0.0070 - acc: 1.0000\n",
            "Epoch 00003: val_loss did not improve from 0.07759\n",
            "50/50 [==============================] - 72s 1s/step - loss: 0.0069 - acc: 1.0000 - val_loss: 0.1309 - val_acc: 0.9739\n",
            "Epoch 4/5\n",
            "49/50 [============================>.] - ETA: 0s - loss: 0.0148 - acc: 0.9938\n",
            "Epoch 00004: val_loss did not improve from 0.07759\n",
            "50/50 [==============================] - 72s 1s/step - loss: 0.0149 - acc: 0.9939 - val_loss: 0.1353 - val_acc: 0.9739\n",
            "Epoch 5/5\n",
            "49/50 [============================>.] - ETA: 0s - loss: 0.0134 - acc: 0.9973\n",
            "Epoch 00005: val_loss did not improve from 0.07759\n",
            "50/50 [==============================] - 72s 1s/step - loss: 0.0132 - acc: 0.9974 - val_loss: 0.0914 - val_acc: 0.9739\n"
          ],
          "name": "stdout"
        }
      ]
    },
    {
      "metadata": {
        "id": "NIi6l1CuwJC0",
        "colab_type": "code",
        "outputId": "de4e6d13-0a20-432b-afc6-c944e7e4ab0e",
        "colab": {
          "base_uri": "https://localhost:8080/",
          "height": 34
        }
      },
      "cell_type": "code",
      "source": [
        "!ls checkpoints"
      ],
      "execution_count": 35,
      "outputs": [
        {
          "output_type": "stream",
          "text": [
            "weights_01_0.75.hdf5  weights_02_0.97.hdf5  weights_03_0.97.hdf5\n"
          ],
          "name": "stdout"
        }
      ]
    },
    {
      "metadata": {
        "id": "s8-NQU0iwKZh",
        "colab_type": "code",
        "outputId": "0ee99b68-f67b-4842-bf39-22fcf99303d1",
        "colab": {
          "base_uri": "https://localhost:8080/",
          "height": 51
        }
      },
      "cell_type": "code",
      "source": [
        "metrics = model.evaluate(valid_dataset,steps=50)\n",
        "print(\"model accuracy:\",metrics[1])"
      ],
      "execution_count": 36,
      "outputs": [
        {
          "output_type": "stream",
          "text": [
            "50/50 [==============================] - 26s 521ms/step\n",
            "model accuracy: 0.973913049697876\n"
          ],
          "name": "stdout"
        }
      ]
    },
    {
      "metadata": {
        "id": "Jwcbsb-uwM7g",
        "colab_type": "code",
        "colab": {}
      },
      "cell_type": "code",
      "source": [
        "model.load_weights('./checkpoints/weights_03_0.97.hdf5')"
      ],
      "execution_count": 0,
      "outputs": []
    },
    {
      "metadata": {
        "id": "g74ikoqXwOIW",
        "colab_type": "code",
        "outputId": "874390a4-dac1-4370-cfdd-1f1af5dcd808",
        "colab": {
          "base_uri": "https://localhost:8080/",
          "height": 571
        }
      },
      "cell_type": "code",
      "source": [
        "# summarize history for accuracy\n",
        "plt.plot(history.history['acc'])\n",
        "plt.plot(history.history['val_acc'])\n",
        "plt.title('model accuracy')\n",
        "plt.ylabel('accuracy')\n",
        "plt.xlabel('epoch')\n",
        "plt.legend(['train', 'test'], loc='upper left')\n",
        "plt.show()\n",
        "# summarize history for loss\n",
        "plt.plot(history.history['loss'])\n",
        "plt.plot(history.history['val_loss'])\n",
        "plt.title('model loss')\n",
        "plt.ylabel('loss')\n",
        "plt.xlabel('epoch')\n",
        "plt.legend(['train', 'test'], loc='upper left')\n",
        "plt.show()"
      ],
      "execution_count": 37,
      "outputs": [
        {
          "output_type": "display_data",
          "data": {
            "image/png": "[encoded data removed]",
            "text/plain": [
              "<matplotlib.figure.Figure at 0x7f461ca9da90>"
            ]
          },
          "metadata": {
            "tags": []
          }
        },
        {
          "output_type": "display_data",
          "data": {
            "image/png": "[encoded data removed]",
            "text/plain": [
              "<matplotlib.figure.Figure at 0x7f461b19a978>"
            ]
          },
          "metadata": {
            "tags": []
          }
        }
      ]
    },
    {
      "metadata": {
        "id": "fflEgXIHwQHZ",
        "colab_type": "text"
      },
      "cell_type": "markdown",
      "source": [
        "## Make some predictions\n"
      ]
    },
    {
      "metadata": {
        "id": "5vEVFahfwRZi",
        "colab_type": "code",
        "colab": {
          "base_uri": "https://localhost:8080/",
          "height": 34
        },
        "outputId": "5f5f19f8-8e6e-41d5-c380-3fb07af69eba"
      },
      "cell_type": "code",
      "source": [
        "preds = model.predict(valid_dataset,steps=5)\n",
        "preds = preds.argmax(axis=-1)\n",
        "\n",
        "preds.shape"
      ],
      "execution_count": 39,
      "outputs": [
        {
          "output_type": "execute_result",
          "data": {
            "text/plain": [
              "(115,)"
            ]
          },
          "metadata": {
            "tags": []
          },
          "execution_count": 39
        }
      ]
    },
    {
      "metadata": {
        "id": "aqQraLiowS6T",
        "colab_type": "code",
        "colab": {}
      },
      "cell_type": "code",
      "source": [
        "val_labels = val_labels_list[0:320]\n"
      ],
      "execution_count": 0,
      "outputs": []
    },
    {
      "metadata": {
        "id": "gjddejiowUEH",
        "colab_type": "code",
        "colab": {
          "base_uri": "https://localhost:8080/",
          "height": 34
        },
        "outputId": "a0fa3e8c-5169-4d20-fa90-eda2131287d3"
      },
      "cell_type": "code",
      "source": [
        "len(val_labels)"
      ],
      "execution_count": 41,
      "outputs": [
        {
          "output_type": "execute_result",
          "data": {
            "text/plain": [
              "115"
            ]
          },
          "metadata": {
            "tags": []
          },
          "execution_count": 41
        }
      ]
    },
    {
      "metadata": {
        "id": "Eh2LvDU3wV5_",
        "colab_type": "text"
      },
      "cell_type": "markdown",
      "source": [
        "## Make a Confusion Matrix\n"
      ]
    },
    {
      "metadata": {
        "id": "FszDbDBkwXHC",
        "colab_type": "code",
        "colab": {}
      },
      "cell_type": "code",
      "source": [
        "from sklearn.metrics import confusion_matrix\n",
        "import itertools\n",
        "\n",
        "cm = confusion_matrix(val_labels,preds)"
      ],
      "execution_count": 0,
      "outputs": []
    },
    {
      "metadata": {
        "id": "pAtLuzTUwXqY",
        "colab_type": "code",
        "colab": {}
      },
      "cell_type": "code",
      "source": [
        "def plot_confusion_matrix(cm, classes,\n",
        "                          normalize=False,\n",
        "                          title='Confusion matrix',\n",
        "                          cmap=plt.cm.Blues):\n",
        "    \"\"\"\n",
        "    This function prints and plots the confusion matrix.\n",
        "    Normalization can be applied by setting `normalize=True`.\n",
        "    \"\"\"\n",
        "    if normalize:\n",
        "        cm = cm.astype('float') / cm.sum(axis=1)[:, np.newaxis]\n",
        "        print(\"Normalized confusion matrix\")\n",
        "    else:\n",
        "        print('Confusion matrix, without normalization')\n",
        "\n",
        "    print(cm)\n",
        "\n",
        "    plt.imshow(cm, interpolation='nearest', cmap=cmap)\n",
        "    plt.title(title)\n",
        "    plt.colorbar()\n",
        "    tick_marks = np.arange(len(classes))\n",
        "    plt.xticks(tick_marks, classes, rotation=45)\n",
        "    plt.yticks(tick_marks, classes)\n",
        "\n",
        "    fmt = '.2f' if normalize else 'd'\n",
        "    thresh = cm.max() / 2.\n",
        "    for i, j in itertools.product(range(cm.shape[0]), range(cm.shape[1])):\n",
        "        plt.text(j, i, format(cm[i, j], fmt),\n",
        "                 horizontalalignment=\"center\",\n",
        "                 color=\"white\" if cm[i, j] > thresh else \"black\")\n",
        "\n",
        "    plt.tight_layout()\n",
        "    plt.ylabel('True label')\n",
        "    plt.xlabel('Predicted label')\n",
        "\n"
      ],
      "execution_count": 0,
      "outputs": []
    },
    {
      "metadata": {
        "id": "gsEYlgkqwZ52",
        "colab_type": "code",
        "colab": {
          "base_uri": "https://localhost:8080/",
          "height": 956
        },
        "outputId": "c62790aa-bf1f-4e16-f125-bbaedd4c0fcb"
      },
      "cell_type": "code",
      "source": [
        "cm_plot_labels = names\n",
        "\n",
        "# # Plot normalized confusion matrix\n",
        "plt.figure(figsize=(16,8))\n",
        "plot_confusion_matrix(cm, cm_plot_labels, normalize=True,\n",
        "                      title='Monkey Normalized')\n",
        "\n",
        "plt.show()"
      ],
      "execution_count": 44,
      "outputs": [
        {
          "output_type": "stream",
          "text": [
            "Normalized confusion matrix\n",
            "[[0.90909091 0.         0.         0.         0.         0.\n",
            "  0.         0.         0.09090909 0.        ]\n",
            " [0.         0.91666667 0.         0.         0.         0.\n",
            "  0.         0.         0.08333333 0.        ]\n",
            " [0.         0.         1.         0.         0.         0.\n",
            "  0.         0.         0.         0.        ]\n",
            " [0.         0.         0.         1.         0.         0.\n",
            "  0.         0.         0.         0.        ]\n",
            " [0.         0.         0.         0.         1.         0.\n",
            "  0.         0.         0.         0.        ]\n",
            " [0.         0.         0.         0.         0.         1.\n",
            "  0.         0.         0.         0.        ]\n",
            " [0.         0.         0.         0.         0.         0.\n",
            "  1.         0.         0.         0.        ]\n",
            " [0.         0.         0.         0.         0.         0.\n",
            "  0.         0.91666667 0.08333333 0.        ]\n",
            " [0.         0.         0.         0.         0.         0.\n",
            "  0.         0.         1.         0.        ]\n",
            " [0.         0.         0.         0.         0.         0.\n",
            "  0.         0.         0.         1.        ]]\n"
          ],
          "name": "stdout"
        },
        {
          "output_type": "display_data",
          "data": {
            "image/png": "[encoded data removed]",
            "text/plain": [
              "<matplotlib.figure.Figure at 0x7f46187b7400>"
            ]
          },
          "metadata": {
            "tags": []
          }
        }
      ]
    },
    {
      "metadata": {
        "id": "7FjVYLxhCWAM",
        "colab_type": "text"
      },
      "cell_type": "markdown",
      "source": [
        "## Make some predictions\n"
      ]
    },
    {
      "metadata": {
        "id": "W5UAEG9XCZ2N",
        "colab_type": "code",
        "colab": {
          "base_uri": "https://localhost:8080/",
          "height": 51
        },
        "outputId": "f26d18c9-72e7-40ed-ed7a-3ea0f0c8ca57"
      },
      "cell_type": "code",
      "source": [
        "!ls"
      ],
      "execution_count": 45,
      "outputs": [
        {
          "output_type": "stream",
          "text": [
            "checkpoints  __MACOSX\t\t__pycache__  sutils.py\tvalidation\n",
            "gdrive.py    monkey_labels.txt\tsample_data  training\n"
          ],
          "name": "stdout"
        }
      ]
    },
    {
      "metadata": {
        "id": "3Kzg7mzoCs32",
        "colab_type": "code",
        "colab": {}
      },
      "cell_type": "code",
      "source": [
        "image_path = './validation/'\n"
      ],
      "execution_count": 0,
      "outputs": []
    },
    {
      "metadata": {
        "id": "HqIBueRZC6BW",
        "colab_type": "code",
        "colab": {
          "base_uri": "https://localhost:8080/",
          "height": 517
        },
        "outputId": "335dc1dd-d5cd-4cd0-cdb6-a8b054c7b7d6"
      },
      "cell_type": "code",
      "source": [
        "from IPython.display import Image\n",
        "\n",
        "image_name = 'n5/n500.jpg'\n",
        "Image(image_path+image_name)"
      ],
      "execution_count": 47,
      "outputs": [
        {
          "output_type": "execute_result",
          "data": {
            "image/jpeg": "[encoded data removed]",
            "text/plain": [
              "<IPython.core.display.Image object>"
            ]
          },
          "metadata": {
            "tags": []
          },
          "execution_count": 47
        }
      ]
    },
    {
      "metadata": {
        "id": "E_zzCBARDQOU",
        "colab_type": "code",
        "colab": {
          "base_uri": "https://localhost:8080/",
          "height": 34
        },
        "outputId": "4a62336a-cef5-4fa8-999f-79937464e544"
      },
      "cell_type": "code",
      "source": [
        "from keras.preprocessing import image\n",
        "from keras.applications.imagenet_utils import preprocess_input, decode_predictions\n",
        "import numpy as np\n",
        "\n",
        "img_path = os.path.join(image_path, image_name)\n",
        "img = image.load_img(img_path, target_size=(299, 299))\n",
        "x = image.img_to_array(img)\n",
        "x = np.expand_dims(x, axis=0)\n",
        "# x = preprocess_input(x)\n",
        "print('Input image shape:', x.shape)"
      ],
      "execution_count": 48,
      "outputs": [
        {
          "output_type": "stream",
          "text": [
            "Input image shape: (1, 299, 299, 3)\n"
          ],
          "name": "stdout"
        }
      ]
    },
    {
      "metadata": {
        "id": "mZW2BnqSDgU-",
        "colab_type": "code",
        "colab": {
          "base_uri": "https://localhost:8080/",
          "height": 68
        },
        "outputId": "9d97718b-dded-449b-ffad-d3882467752b"
      },
      "cell_type": "code",
      "source": [
        "pred = model.predict(x)\n",
        "print('Predicted:', pred)\n",
        "\n",
        "print(np.argmax(pred))"
      ],
      "execution_count": 49,
      "outputs": [
        {
          "output_type": "stream",
          "text": [
            "Predicted: [[3.5922412e-02 1.5111899e-05 5.2671214e-05 1.4853434e-04 2.9812058e-04\n",
            "  9.5019561e-01 6.1569287e-04 1.6476671e-03 9.6441731e-03 1.4599805e-03]]\n",
            "5\n"
          ],
          "name": "stdout"
        }
      ]
    },
    {
      "metadata": {
        "id": "DvPM-xLPDij9",
        "colab_type": "code",
        "colab": {
          "base_uri": "https://localhost:8080/",
          "height": 34
        },
        "outputId": "348ad165-97be-4fbb-8c67-ace4ef191729"
      },
      "cell_type": "code",
      "source": [
        "result= np.argmax(pred)\n",
        "if result==0:\n",
        "    print(\"Its a alouatta_palliata\")\n",
        "elif result==1:\n",
        "    print(\"Its a erythrocebus_patas\")\n",
        "elif result==2:\n",
        "    print(\"Its a cacajao_calvus\")\n",
        "elif result==3:\n",
        "    print(\"Its a macaca_fuscata\")\n",
        "elif result==4:\n",
        "    print(\"Its a cebuella_pygmea\")\n",
        "elif result==5:\n",
        "    print(\"Its a cebus_capucinus\")\n",
        "elif result==6:\n",
        "    print(\"Its a mico_argentatus\")\n",
        "elif result==7:\n",
        "    print(\"Its a saimiri_sciureus\")\n",
        "elif result==8:\n",
        "    print(\"Its a aotus_nigriceps\")\n",
        "elif result==9:\n",
        "    print(\"Its a trachypithecus_johnii\")\n",
        "    "
      ],
      "execution_count": 50,
      "outputs": [
        {
          "output_type": "stream",
          "text": [
            "Its a cebus_capucinus\n"
          ],
          "name": "stdout"
        }
      ]
    }
  ]
}